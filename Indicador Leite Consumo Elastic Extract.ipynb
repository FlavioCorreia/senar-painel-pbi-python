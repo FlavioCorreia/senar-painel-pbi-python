{
 "cells": [
  {
   "cell_type": "code",
   "execution_count": 1,
   "id": "773b2d73",
   "metadata": {},
   "outputs": [],
   "source": [
    "import pandas as pd\n",
    "import sqlalchemy\n",
    "import datetime\n",
    "pd.set_option('display.max_columns', 200)\n",
    "from IPython.display import display\n",
    "import os\n",
    "from elasticsearch import Elasticsearch\n",
    "from elasticsearch import RequestsHttpConnection"
   ]
  },
  {
   "cell_type": "code",
   "execution_count": 2,
   "id": "564113a3",
   "metadata": {},
   "outputs": [],
   "source": [
    "host = 'api-corp.cna.org.br'\n",
    "port = '443'\n",
    "usuario = 'asper'\n",
    "senha = 'Asper@TI#'"
   ]
  },
  {
   "cell_type": "code",
   "execution_count": 3,
   "id": "33486046",
   "metadata": {},
   "outputs": [],
   "source": [
    "query_all = {\n",
    "    \"query\": {\n",
    "        \"match_all\": {}\n",
    "    }\n",
    "}"
   ]
  },
  {
   "cell_type": "code",
   "execution_count": 5,
   "id": "bb204382",
   "metadata": {},
   "outputs": [],
   "source": [
    "es = Elasticsearch([f'http://{host}:{port}'],\n",
    "                  connection_class=RequestsHttpConnection, \n",
    "                   http_auth=(usuario, senha), \n",
    "                   use_ssl=True, verify_certs=False)"
   ]
  },
  {
   "cell_type": "code",
   "execution_count": 35,
   "id": "0957c484",
   "metadata": {},
   "outputs": [],
   "source": [
    "def get_index_df(index, scroll_size, scroll_time):\n",
    "    scroll = es.search(\n",
    "        index=index, size=scroll_size, \n",
    "        scroll=scroll_time, \n",
    "        body=query_all\n",
    "    )\n",
    "    page = 1\n",
    "    df = pd.DataFrame()\n",
    "\n",
    "    while True:\n",
    "        scroll_id = scroll['_scroll_id']\n",
    "\n",
    "        if not scroll['hits']['hits']:\n",
    "            break\n",
    "\n",
    "        df_aux = pd.json_normalize( scroll[\"hits\"][\"hits\"] )\n",
    "        print(page, df_aux.shape, df.shape)\n",
    "        df = pd.concat( [df, df_aux] )\n",
    "\n",
    "        scroll = es.scroll(scroll_id=scroll_id, scroll=scroll_time)\n",
    "\n",
    "        page += 1\n",
    "    \n",
    "    return df "
   ]
  },
  {
   "cell_type": "markdown",
   "id": "12118868",
   "metadata": {},
   "source": [
    "### sisateg_rel_indicador_leite"
   ]
  },
  {
   "cell_type": "code",
   "execution_count": 29,
   "id": "57962561",
   "metadata": {},
   "outputs": [],
   "source": [
    "index='sisateg_rel_indicador_leite'\n",
    "scroll_size=10000\n",
    "scroll_time='15m'"
   ]
  },
  {
   "cell_type": "code",
   "execution_count": 36,
   "id": "8151e395",
   "metadata": {
    "scrolled": true
   },
   "outputs": [
    {
     "name": "stderr",
     "output_type": "stream",
     "text": [
      "C:\\Users\\Flavio\\anaconda3\\envs\\pyDev\\lib\\site-packages\\urllib3\\connectionpool.py:1045: InsecureRequestWarning: Unverified HTTPS request is being made to host 'api-corp.cna.org.br'. Adding certificate verification is strongly advised. See: https://urllib3.readthedocs.io/en/1.26.x/advanced-usage.html#ssl-warnings\n",
      "  warnings.warn(\n"
     ]
    },
    {
     "name": "stdout",
     "output_type": "stream",
     "text": [
      "1 (10000, 64) (0, 0)\n"
     ]
    },
    {
     "name": "stderr",
     "output_type": "stream",
     "text": [
      "C:\\Users\\Flavio\\anaconda3\\envs\\pyDev\\lib\\site-packages\\urllib3\\connectionpool.py:1045: InsecureRequestWarning: Unverified HTTPS request is being made to host 'api-corp.cna.org.br'. Adding certificate verification is strongly advised. See: https://urllib3.readthedocs.io/en/1.26.x/advanced-usage.html#ssl-warnings\n",
      "  warnings.warn(\n"
     ]
    },
    {
     "name": "stdout",
     "output_type": "stream",
     "text": [
      "2 (10000, 64) (10000, 64)\n"
     ]
    },
    {
     "name": "stderr",
     "output_type": "stream",
     "text": [
      "C:\\Users\\Flavio\\anaconda3\\envs\\pyDev\\lib\\site-packages\\urllib3\\connectionpool.py:1045: InsecureRequestWarning: Unverified HTTPS request is being made to host 'api-corp.cna.org.br'. Adding certificate verification is strongly advised. See: https://urllib3.readthedocs.io/en/1.26.x/advanced-usage.html#ssl-warnings\n",
      "  warnings.warn(\n"
     ]
    },
    {
     "name": "stdout",
     "output_type": "stream",
     "text": [
      "3 (10000, 64) (20000, 64)\n"
     ]
    },
    {
     "name": "stderr",
     "output_type": "stream",
     "text": [
      "C:\\Users\\Flavio\\anaconda3\\envs\\pyDev\\lib\\site-packages\\urllib3\\connectionpool.py:1045: InsecureRequestWarning: Unverified HTTPS request is being made to host 'api-corp.cna.org.br'. Adding certificate verification is strongly advised. See: https://urllib3.readthedocs.io/en/1.26.x/advanced-usage.html#ssl-warnings\n",
      "  warnings.warn(\n"
     ]
    },
    {
     "name": "stdout",
     "output_type": "stream",
     "text": [
      "4 (10000, 64) (30000, 64)\n"
     ]
    },
    {
     "name": "stderr",
     "output_type": "stream",
     "text": [
      "C:\\Users\\Flavio\\anaconda3\\envs\\pyDev\\lib\\site-packages\\urllib3\\connectionpool.py:1045: InsecureRequestWarning: Unverified HTTPS request is being made to host 'api-corp.cna.org.br'. Adding certificate verification is strongly advised. See: https://urllib3.readthedocs.io/en/1.26.x/advanced-usage.html#ssl-warnings\n",
      "  warnings.warn(\n"
     ]
    },
    {
     "name": "stdout",
     "output_type": "stream",
     "text": [
      "5 (10000, 64) (40000, 64)\n"
     ]
    },
    {
     "name": "stderr",
     "output_type": "stream",
     "text": [
      "C:\\Users\\Flavio\\anaconda3\\envs\\pyDev\\lib\\site-packages\\urllib3\\connectionpool.py:1045: InsecureRequestWarning: Unverified HTTPS request is being made to host 'api-corp.cna.org.br'. Adding certificate verification is strongly advised. See: https://urllib3.readthedocs.io/en/1.26.x/advanced-usage.html#ssl-warnings\n",
      "  warnings.warn(\n"
     ]
    },
    {
     "name": "stdout",
     "output_type": "stream",
     "text": [
      "6 (10000, 64) (50000, 64)\n"
     ]
    },
    {
     "name": "stderr",
     "output_type": "stream",
     "text": [
      "C:\\Users\\Flavio\\anaconda3\\envs\\pyDev\\lib\\site-packages\\urllib3\\connectionpool.py:1045: InsecureRequestWarning: Unverified HTTPS request is being made to host 'api-corp.cna.org.br'. Adding certificate verification is strongly advised. See: https://urllib3.readthedocs.io/en/1.26.x/advanced-usage.html#ssl-warnings\n",
      "  warnings.warn(\n"
     ]
    },
    {
     "name": "stdout",
     "output_type": "stream",
     "text": [
      "7 (10000, 64) (60000, 64)\n"
     ]
    },
    {
     "name": "stderr",
     "output_type": "stream",
     "text": [
      "C:\\Users\\Flavio\\anaconda3\\envs\\pyDev\\lib\\site-packages\\urllib3\\connectionpool.py:1045: InsecureRequestWarning: Unverified HTTPS request is being made to host 'api-corp.cna.org.br'. Adding certificate verification is strongly advised. See: https://urllib3.readthedocs.io/en/1.26.x/advanced-usage.html#ssl-warnings\n",
      "  warnings.warn(\n"
     ]
    },
    {
     "name": "stdout",
     "output_type": "stream",
     "text": [
      "8 (10000, 64) (70000, 64)\n"
     ]
    },
    {
     "name": "stderr",
     "output_type": "stream",
     "text": [
      "C:\\Users\\Flavio\\anaconda3\\envs\\pyDev\\lib\\site-packages\\urllib3\\connectionpool.py:1045: InsecureRequestWarning: Unverified HTTPS request is being made to host 'api-corp.cna.org.br'. Adding certificate verification is strongly advised. See: https://urllib3.readthedocs.io/en/1.26.x/advanced-usage.html#ssl-warnings\n",
      "  warnings.warn(\n"
     ]
    },
    {
     "name": "stdout",
     "output_type": "stream",
     "text": [
      "9 (10000, 64) (80000, 64)\n"
     ]
    },
    {
     "name": "stderr",
     "output_type": "stream",
     "text": [
      "C:\\Users\\Flavio\\anaconda3\\envs\\pyDev\\lib\\site-packages\\urllib3\\connectionpool.py:1045: InsecureRequestWarning: Unverified HTTPS request is being made to host 'api-corp.cna.org.br'. Adding certificate verification is strongly advised. See: https://urllib3.readthedocs.io/en/1.26.x/advanced-usage.html#ssl-warnings\n",
      "  warnings.warn(\n"
     ]
    },
    {
     "name": "stdout",
     "output_type": "stream",
     "text": [
      "10 (7915, 64) (90000, 64)\n"
     ]
    },
    {
     "name": "stderr",
     "output_type": "stream",
     "text": [
      "C:\\Users\\Flavio\\anaconda3\\envs\\pyDev\\lib\\site-packages\\urllib3\\connectionpool.py:1045: InsecureRequestWarning: Unverified HTTPS request is being made to host 'api-corp.cna.org.br'. Adding certificate verification is strongly advised. See: https://urllib3.readthedocs.io/en/1.26.x/advanced-usage.html#ssl-warnings\n",
      "  warnings.warn(\n"
     ]
    },
    {
     "data": {
      "text/plain": [
       "(97915, 64)"
      ]
     },
     "execution_count": 36,
     "metadata": {},
     "output_type": "execute_result"
    }
   ],
   "source": [
    "df = get_index_df(index, scroll_size, scroll_time)\n",
    "df.shape"
   ]
  },
  {
   "cell_type": "code",
   "execution_count": 37,
   "id": "5aea8614",
   "metadata": {},
   "outputs": [],
   "source": [
    "df.columns = [ c.replace('_','').replace('source.','') for c in df.columns ]\n",
    "df = df.reset_index( drop=True )"
   ]
  },
  {
   "cell_type": "code",
   "execution_count": 38,
   "id": "85461879",
   "metadata": {},
   "outputs": [
    {
     "data": {
      "text/html": [
       "<div>\n",
       "<style scoped>\n",
       "    .dataframe tbody tr th:only-of-type {\n",
       "        vertical-align: middle;\n",
       "    }\n",
       "\n",
       "    .dataframe tbody tr th {\n",
       "        vertical-align: top;\n",
       "    }\n",
       "\n",
       "    .dataframe thead th {\n",
       "        text-align: right;\n",
       "    }\n",
       "</style>\n",
       "<table border=\"1\" class=\"dataframe\">\n",
       "  <thead>\n",
       "    <tr style=\"text-align: right;\">\n",
       "      <th></th>\n",
       "      <th>index</th>\n",
       "      <th>type</th>\n",
       "      <th>id</th>\n",
       "      <th>score</th>\n",
       "      <th>margemliquidaunitaria</th>\n",
       "      <th>gastoconcentradoatividade</th>\n",
       "      <th>gastomaodeobracontratadaatividade</th>\n",
       "      <th>capitalemterra</th>\n",
       "      <th>idprodutor</th>\n",
       "      <th>lucrototal</th>\n",
       "      <th>@version</th>\n",
       "      <th>supervisoratual</th>\n",
       "      <th>dtreferencia</th>\n",
       "      <th>qtdproducaoleitedia</th>\n",
       "      <th>dtalteracaopropriedade</th>\n",
       "      <th>idregional</th>\n",
       "      <th>produtor</th>\n",
       "      <th>datexclusaovisita</th>\n",
       "      <th>producaoleite</th>\n",
       "      <th>valorlavoura</th>\n",
       "      <th>coeleite</th>\n",
       "      <th>inicioreferencia</th>\n",
       "      <th>ufregional</th>\n",
       "      <th>coeatividade</th>\n",
       "      <th>jurossobrecapital</th>\n",
       "      <th>gastomaodeobrapelarendabrutaleite</th>\n",
       "      <th>margemliquidaatividade</th>\n",
       "      <th>depreciacaoatividade</th>\n",
       "      <th>tecnicovisita</th>\n",
       "      <th>dtalteracaovisita</th>\n",
       "      <th>idpropriedade</th>\n",
       "      <th>margembrutaatividade</th>\n",
       "      <th>depreciacaoanimalgenetico</th>\n",
       "      <th>margembrutaunitaria</th>\n",
       "      <th>pontocoberturatotal</th>\n",
       "      <th>depreciacaoanimalservico</th>\n",
       "      <th>despesaaleitamento</th>\n",
       "      <th>estoquecapitalsemterra</th>\n",
       "      <th>ctatividade</th>\n",
       "      <th>nummesesacumulado</th>\n",
       "      <th>despesaqualidadeleite</th>\n",
       "      <th>taxagirocapital</th>\n",
       "      <th>gastoconcentradopelarendabrutaleite</th>\n",
       "      <th>areaprodutivaacumulada</th>\n",
       "      <th>dtexclusaopropriedade</th>\n",
       "      <th>dtvisita</th>\n",
       "      <th>fimreferencia</th>\n",
       "      <th>qtdvacalactacaoacumulada</th>\n",
       "      <th>idsupervisoratual</th>\n",
       "      <th>precomedioleite</th>\n",
       "      <th>ctleite</th>\n",
       "      <th>idvisita</th>\n",
       "      <th>propriedade</th>\n",
       "      <th>lucrototalunitario</th>\n",
       "      <th>producaoporvacalactacao</th>\n",
       "      <th>cotatividade</th>\n",
       "      <th>idtecnicovisita</th>\n",
       "      <th>cotleite</th>\n",
       "      <th>rendabrutaatividade</th>\n",
       "      <th>estoquecapitalemterra</th>\n",
       "      <th>rendabrutaleite</th>\n",
       "      <th>depreciacaoanimal</th>\n",
       "      <th>@timestamp</th>\n",
       "      <th>customaoobrafamiliar</th>\n",
       "    </tr>\n",
       "  </thead>\n",
       "  <tbody>\n",
       "    <tr>\n",
       "      <th>97912</th>\n",
       "      <td>sisateg_rel_indicador_leite</td>\n",
       "      <td>_doc</td>\n",
       "      <td>3620971</td>\n",
       "      <td>1.0</td>\n",
       "      <td>0.00</td>\n",
       "      <td>0.0</td>\n",
       "      <td>0.0</td>\n",
       "      <td>0.0</td>\n",
       "      <td>346655</td>\n",
       "      <td>0.00</td>\n",
       "      <td>1</td>\n",
       "      <td>GUSTAVO DE LOURENZO FREITAS</td>\n",
       "      <td>2023-06-01T03:00:00.000Z</td>\n",
       "      <td>3.95</td>\n",
       "      <td>2023-07-11T11:11:46.593Z</td>\n",
       "      <td>15</td>\n",
       "      <td>Marcos Antonio Almeida de Sousa</td>\n",
       "      <td>None</td>\n",
       "      <td>120.0</td>\n",
       "      <td>0.0</td>\n",
       "      <td>0.00</td>\n",
       "      <td>2022-07-01T03:00:00.000Z</td>\n",
       "      <td>GO</td>\n",
       "      <td>0.00</td>\n",
       "      <td>0.0</td>\n",
       "      <td>0.00</td>\n",
       "      <td>0.00</td>\n",
       "      <td>NaN</td>\n",
       "      <td>THALES CAVALHAES NOGUEIRA</td>\n",
       "      <td>2023-07-26T17:39:38.140Z</td>\n",
       "      <td>281275</td>\n",
       "      <td>306.00</td>\n",
       "      <td>NaN</td>\n",
       "      <td>2.55</td>\n",
       "      <td>NaN</td>\n",
       "      <td>NaN</td>\n",
       "      <td>0.0</td>\n",
       "      <td>NaN</td>\n",
       "      <td>306.00</td>\n",
       "      <td>1</td>\n",
       "      <td>0.0</td>\n",
       "      <td>NaN</td>\n",
       "      <td>0.00</td>\n",
       "      <td>0.0</td>\n",
       "      <td>None</td>\n",
       "      <td>2023-07-09T03:00:00.000Z</td>\n",
       "      <td>2023-06-30T03:00:00.000Z</td>\n",
       "      <td>0.0</td>\n",
       "      <td>2957</td>\n",
       "      <td>NaN</td>\n",
       "      <td>NaN</td>\n",
       "      <td>3620971</td>\n",
       "      <td>Sítio da Capivara</td>\n",
       "      <td>0.00</td>\n",
       "      <td>NaN</td>\n",
       "      <td>306.00</td>\n",
       "      <td>79345</td>\n",
       "      <td>NaN</td>\n",
       "      <td>306.00</td>\n",
       "      <td>NaN</td>\n",
       "      <td>306.00</td>\n",
       "      <td>0.0</td>\n",
       "      <td>2023-08-31T13:41:09.728Z</td>\n",
       "      <td>306.0</td>\n",
       "    </tr>\n",
       "    <tr>\n",
       "      <th>97913</th>\n",
       "      <td>sisateg_rel_indicador_leite</td>\n",
       "      <td>_doc</td>\n",
       "      <td>3733574</td>\n",
       "      <td>1.0</td>\n",
       "      <td>-0.34</td>\n",
       "      <td>2296.0</td>\n",
       "      <td>0.0</td>\n",
       "      <td>675000.0</td>\n",
       "      <td>338148</td>\n",
       "      <td>-14253.44</td>\n",
       "      <td>1</td>\n",
       "      <td>MIRIANNY URZEDA</td>\n",
       "      <td>2023-07-01T03:00:00.000Z</td>\n",
       "      <td>83.82</td>\n",
       "      <td>2023-08-24T14:34:08.057Z</td>\n",
       "      <td>15</td>\n",
       "      <td>Danilo dos Reis Moreira</td>\n",
       "      <td>None</td>\n",
       "      <td>5099.0</td>\n",
       "      <td>0.0</td>\n",
       "      <td>1.12</td>\n",
       "      <td>2022-08-01T03:00:00.000Z</td>\n",
       "      <td>GO</td>\n",
       "      <td>7139.95</td>\n",
       "      <td>12510.9</td>\n",
       "      <td>0.00</td>\n",
       "      <td>-1742.54</td>\n",
       "      <td>3742.33</td>\n",
       "      <td>HENRIQUE DE MORAES BOCAYUVA</td>\n",
       "      <td>2023-08-24T14:34:08.460Z</td>\n",
       "      <td>273273</td>\n",
       "      <td>4840.80</td>\n",
       "      <td>0.0</td>\n",
       "      <td>0.95</td>\n",
       "      <td>30.58</td>\n",
       "      <td>0.0</td>\n",
       "      <td>1410.0</td>\n",
       "      <td>409615.0</td>\n",
       "      <td>26234.19</td>\n",
       "      <td>2</td>\n",
       "      <td>103.0</td>\n",
       "      <td>1.1</td>\n",
       "      <td>19.16</td>\n",
       "      <td>15.0</td>\n",
       "      <td>None</td>\n",
       "      <td>2023-08-07T03:00:00.000Z</td>\n",
       "      <td>2023-07-31T03:00:00.000Z</td>\n",
       "      <td>8.5</td>\n",
       "      <td>76739</td>\n",
       "      <td>2.35</td>\n",
       "      <td>4.86844</td>\n",
       "      <td>3733574</td>\n",
       "      <td>Fazenda Cristalina</td>\n",
       "      <td>-2.80</td>\n",
       "      <td>9.86</td>\n",
       "      <td>13723.29</td>\n",
       "      <td>103692</td>\n",
       "      <td>2.41</td>\n",
       "      <td>11980.75</td>\n",
       "      <td>1084615.0</td>\n",
       "      <td>11980.75</td>\n",
       "      <td>0.0</td>\n",
       "      <td>2023-08-31T13:41:09.711Z</td>\n",
       "      <td>2841.0</td>\n",
       "    </tr>\n",
       "    <tr>\n",
       "      <th>97914</th>\n",
       "      <td>sisateg_rel_indicador_leite</td>\n",
       "      <td>_doc</td>\n",
       "      <td>3485080</td>\n",
       "      <td>1.0</td>\n",
       "      <td>0.54</td>\n",
       "      <td>36320.0</td>\n",
       "      <td>6100.0</td>\n",
       "      <td>0.0</td>\n",
       "      <td>338227</td>\n",
       "      <td>12122.52</td>\n",
       "      <td>1</td>\n",
       "      <td>ANDRÉ LUIZ MILHARDES</td>\n",
       "      <td>2023-05-01T03:00:00.000Z</td>\n",
       "      <td>743.31</td>\n",
       "      <td>2023-07-05T17:00:51.000Z</td>\n",
       "      <td>15</td>\n",
       "      <td>Lidiane Felix dos Santos Peixoto</td>\n",
       "      <td>None</td>\n",
       "      <td>22609.0</td>\n",
       "      <td>0.0</td>\n",
       "      <td>2.25</td>\n",
       "      <td>2022-06-01T03:00:00.000Z</td>\n",
       "      <td>GO</td>\n",
       "      <td>53249.97</td>\n",
       "      <td>0.0</td>\n",
       "      <td>8.96</td>\n",
       "      <td>12122.52</td>\n",
       "      <td>NaN</td>\n",
       "      <td>ALEX BRUNO RIBEIRO ANDRADE</td>\n",
       "      <td>2023-07-06T00:11:34.000Z</td>\n",
       "      <td>273344</td>\n",
       "      <td>14803.12</td>\n",
       "      <td>NaN</td>\n",
       "      <td>0.65</td>\n",
       "      <td>50.91</td>\n",
       "      <td>NaN</td>\n",
       "      <td>2408.0</td>\n",
       "      <td>NaN</td>\n",
       "      <td>55930.57</td>\n",
       "      <td>1</td>\n",
       "      <td>1000.0</td>\n",
       "      <td>NaN</td>\n",
       "      <td>53.37</td>\n",
       "      <td>0.0</td>\n",
       "      <td>None</td>\n",
       "      <td>2023-06-21T03:00:00.000Z</td>\n",
       "      <td>2023-05-31T03:00:00.000Z</td>\n",
       "      <td>43.0</td>\n",
       "      <td>2965</td>\n",
       "      <td>3.01</td>\n",
       "      <td>NaN</td>\n",
       "      <td>3485080</td>\n",
       "      <td>Fazenda Pica Pau</td>\n",
       "      <td>0.54</td>\n",
       "      <td>17.29</td>\n",
       "      <td>55930.57</td>\n",
       "      <td>78482</td>\n",
       "      <td>NaN</td>\n",
       "      <td>68053.09</td>\n",
       "      <td>NaN</td>\n",
       "      <td>68053.09</td>\n",
       "      <td>0.0</td>\n",
       "      <td>2023-08-31T13:41:09.711Z</td>\n",
       "      <td>2680.6</td>\n",
       "    </tr>\n",
       "  </tbody>\n",
       "</table>\n",
       "</div>"
      ],
      "text/plain": [
       "                             index  type       id  score  \\\n",
       "97912  sisateg_rel_indicador_leite  _doc  3620971    1.0   \n",
       "97913  sisateg_rel_indicador_leite  _doc  3733574    1.0   \n",
       "97914  sisateg_rel_indicador_leite  _doc  3485080    1.0   \n",
       "\n",
       "       margemliquidaunitaria  gastoconcentradoatividade  \\\n",
       "97912                   0.00                        0.0   \n",
       "97913                  -0.34                     2296.0   \n",
       "97914                   0.54                    36320.0   \n",
       "\n",
       "       gastomaodeobracontratadaatividade  capitalemterra  idprodutor  \\\n",
       "97912                                0.0             0.0      346655   \n",
       "97913                                0.0        675000.0      338148   \n",
       "97914                             6100.0             0.0      338227   \n",
       "\n",
       "       lucrototal @version              supervisoratual  \\\n",
       "97912        0.00        1  GUSTAVO DE LOURENZO FREITAS   \n",
       "97913   -14253.44        1              MIRIANNY URZEDA   \n",
       "97914    12122.52        1         ANDRÉ LUIZ MILHARDES   \n",
       "\n",
       "                   dtreferencia  qtdproducaoleitedia  \\\n",
       "97912  2023-06-01T03:00:00.000Z                 3.95   \n",
       "97913  2023-07-01T03:00:00.000Z                83.82   \n",
       "97914  2023-05-01T03:00:00.000Z               743.31   \n",
       "\n",
       "         dtalteracaopropriedade  idregional                          produtor  \\\n",
       "97912  2023-07-11T11:11:46.593Z          15   Marcos Antonio Almeida de Sousa   \n",
       "97913  2023-08-24T14:34:08.057Z          15           Danilo dos Reis Moreira   \n",
       "97914  2023-07-05T17:00:51.000Z          15  Lidiane Felix dos Santos Peixoto   \n",
       "\n",
       "      datexclusaovisita  producaoleite  valorlavoura  coeleite  \\\n",
       "97912              None          120.0           0.0      0.00   \n",
       "97913              None         5099.0           0.0      1.12   \n",
       "97914              None        22609.0           0.0      2.25   \n",
       "\n",
       "               inicioreferencia ufregional  coeatividade  jurossobrecapital  \\\n",
       "97912  2022-07-01T03:00:00.000Z         GO          0.00                0.0   \n",
       "97913  2022-08-01T03:00:00.000Z         GO       7139.95            12510.9   \n",
       "97914  2022-06-01T03:00:00.000Z         GO      53249.97                0.0   \n",
       "\n",
       "       gastomaodeobrapelarendabrutaleite  margemliquidaatividade  \\\n",
       "97912                               0.00                    0.00   \n",
       "97913                               0.00                -1742.54   \n",
       "97914                               8.96                12122.52   \n",
       "\n",
       "       depreciacaoatividade                tecnicovisita  \\\n",
       "97912                   NaN    THALES CAVALHAES NOGUEIRA   \n",
       "97913               3742.33  HENRIQUE DE MORAES BOCAYUVA   \n",
       "97914                   NaN   ALEX BRUNO RIBEIRO ANDRADE   \n",
       "\n",
       "              dtalteracaovisita  idpropriedade  margembrutaatividade  \\\n",
       "97912  2023-07-26T17:39:38.140Z         281275                306.00   \n",
       "97913  2023-08-24T14:34:08.460Z         273273               4840.80   \n",
       "97914  2023-07-06T00:11:34.000Z         273344              14803.12   \n",
       "\n",
       "       depreciacaoanimalgenetico  margembrutaunitaria  pontocoberturatotal  \\\n",
       "97912                        NaN                 2.55                  NaN   \n",
       "97913                        0.0                 0.95                30.58   \n",
       "97914                        NaN                 0.65                50.91   \n",
       "\n",
       "       depreciacaoanimalservico  despesaaleitamento  estoquecapitalsemterra  \\\n",
       "97912                       NaN                 0.0                     NaN   \n",
       "97913                       0.0              1410.0                409615.0   \n",
       "97914                       NaN              2408.0                     NaN   \n",
       "\n",
       "       ctatividade  nummesesacumulado  despesaqualidadeleite  taxagirocapital  \\\n",
       "97912       306.00                  1                    0.0              NaN   \n",
       "97913     26234.19                  2                  103.0              1.1   \n",
       "97914     55930.57                  1                 1000.0              NaN   \n",
       "\n",
       "       gastoconcentradopelarendabrutaleite  areaprodutivaacumulada  \\\n",
       "97912                                 0.00                     0.0   \n",
       "97913                                19.16                    15.0   \n",
       "97914                                53.37                     0.0   \n",
       "\n",
       "      dtexclusaopropriedade                  dtvisita  \\\n",
       "97912                  None  2023-07-09T03:00:00.000Z   \n",
       "97913                  None  2023-08-07T03:00:00.000Z   \n",
       "97914                  None  2023-06-21T03:00:00.000Z   \n",
       "\n",
       "                  fimreferencia  qtdvacalactacaoacumulada  idsupervisoratual  \\\n",
       "97912  2023-06-30T03:00:00.000Z                       0.0               2957   \n",
       "97913  2023-07-31T03:00:00.000Z                       8.5              76739   \n",
       "97914  2023-05-31T03:00:00.000Z                      43.0               2965   \n",
       "\n",
       "       precomedioleite  ctleite  idvisita         propriedade  \\\n",
       "97912              NaN      NaN   3620971   Sítio da Capivara   \n",
       "97913             2.35  4.86844   3733574  Fazenda Cristalina   \n",
       "97914             3.01      NaN   3485080    Fazenda Pica Pau   \n",
       "\n",
       "       lucrototalunitario  producaoporvacalactacao  cotatividade  \\\n",
       "97912                0.00                      NaN        306.00   \n",
       "97913               -2.80                     9.86      13723.29   \n",
       "97914                0.54                    17.29      55930.57   \n",
       "\n",
       "       idtecnicovisita  cotleite  rendabrutaatividade  estoquecapitalemterra  \\\n",
       "97912            79345       NaN               306.00                    NaN   \n",
       "97913           103692      2.41             11980.75              1084615.0   \n",
       "97914            78482       NaN             68053.09                    NaN   \n",
       "\n",
       "       rendabrutaleite  depreciacaoanimal                @timestamp  \\\n",
       "97912           306.00                0.0  2023-08-31T13:41:09.728Z   \n",
       "97913         11980.75                0.0  2023-08-31T13:41:09.711Z   \n",
       "97914         68053.09                0.0  2023-08-31T13:41:09.711Z   \n",
       "\n",
       "       customaoobrafamiliar  \n",
       "97912                 306.0  \n",
       "97913                2841.0  \n",
       "97914                2680.6  "
      ]
     },
     "execution_count": 38,
     "metadata": {},
     "output_type": "execute_result"
    }
   ],
   "source": [
    "df.tail(3)"
   ]
  },
  {
   "cell_type": "code",
   "execution_count": 39,
   "id": "d2ea7c04",
   "metadata": {},
   "outputs": [],
   "source": [
    "df.to_parquet('files/sisateg_rel_indicador_leite.parquet')"
   ]
  },
  {
   "cell_type": "markdown",
   "id": "c5a7b4d2",
   "metadata": {},
   "source": [
    "### sisateg_rel_indicador_leite_mensal"
   ]
  },
  {
   "cell_type": "code",
   "execution_count": 40,
   "id": "b3191136",
   "metadata": {
    "scrolled": true
   },
   "outputs": [
    {
     "name": "stderr",
     "output_type": "stream",
     "text": [
      "C:\\Users\\Flavio\\anaconda3\\envs\\pyDev\\lib\\site-packages\\urllib3\\connectionpool.py:1045: InsecureRequestWarning: Unverified HTTPS request is being made to host 'api-corp.cna.org.br'. Adding certificate verification is strongly advised. See: https://urllib3.readthedocs.io/en/1.26.x/advanced-usage.html#ssl-warnings\n",
      "  warnings.warn(\n"
     ]
    },
    {
     "name": "stdout",
     "output_type": "stream",
     "text": [
      "1 (10000, 49) (0, 0)\n"
     ]
    },
    {
     "name": "stderr",
     "output_type": "stream",
     "text": [
      "C:\\Users\\Flavio\\anaconda3\\envs\\pyDev\\lib\\site-packages\\urllib3\\connectionpool.py:1045: InsecureRequestWarning: Unverified HTTPS request is being made to host 'api-corp.cna.org.br'. Adding certificate verification is strongly advised. See: https://urllib3.readthedocs.io/en/1.26.x/advanced-usage.html#ssl-warnings\n",
      "  warnings.warn(\n"
     ]
    },
    {
     "name": "stdout",
     "output_type": "stream",
     "text": [
      "2 (10000, 49) (10000, 49)\n"
     ]
    },
    {
     "name": "stderr",
     "output_type": "stream",
     "text": [
      "C:\\Users\\Flavio\\anaconda3\\envs\\pyDev\\lib\\site-packages\\urllib3\\connectionpool.py:1045: InsecureRequestWarning: Unverified HTTPS request is being made to host 'api-corp.cna.org.br'. Adding certificate verification is strongly advised. See: https://urllib3.readthedocs.io/en/1.26.x/advanced-usage.html#ssl-warnings\n",
      "  warnings.warn(\n"
     ]
    },
    {
     "name": "stdout",
     "output_type": "stream",
     "text": [
      "3 (10000, 49) (20000, 49)\n"
     ]
    },
    {
     "name": "stderr",
     "output_type": "stream",
     "text": [
      "C:\\Users\\Flavio\\anaconda3\\envs\\pyDev\\lib\\site-packages\\urllib3\\connectionpool.py:1045: InsecureRequestWarning: Unverified HTTPS request is being made to host 'api-corp.cna.org.br'. Adding certificate verification is strongly advised. See: https://urllib3.readthedocs.io/en/1.26.x/advanced-usage.html#ssl-warnings\n",
      "  warnings.warn(\n"
     ]
    },
    {
     "name": "stdout",
     "output_type": "stream",
     "text": [
      "4 (10000, 49) (30000, 49)\n"
     ]
    },
    {
     "name": "stderr",
     "output_type": "stream",
     "text": [
      "C:\\Users\\Flavio\\anaconda3\\envs\\pyDev\\lib\\site-packages\\urllib3\\connectionpool.py:1045: InsecureRequestWarning: Unverified HTTPS request is being made to host 'api-corp.cna.org.br'. Adding certificate verification is strongly advised. See: https://urllib3.readthedocs.io/en/1.26.x/advanced-usage.html#ssl-warnings\n",
      "  warnings.warn(\n"
     ]
    },
    {
     "name": "stdout",
     "output_type": "stream",
     "text": [
      "5 (10000, 49) (40000, 49)\n"
     ]
    },
    {
     "name": "stderr",
     "output_type": "stream",
     "text": [
      "C:\\Users\\Flavio\\anaconda3\\envs\\pyDev\\lib\\site-packages\\urllib3\\connectionpool.py:1045: InsecureRequestWarning: Unverified HTTPS request is being made to host 'api-corp.cna.org.br'. Adding certificate verification is strongly advised. See: https://urllib3.readthedocs.io/en/1.26.x/advanced-usage.html#ssl-warnings\n",
      "  warnings.warn(\n"
     ]
    },
    {
     "name": "stdout",
     "output_type": "stream",
     "text": [
      "6 (10000, 49) (50000, 49)\n"
     ]
    },
    {
     "name": "stderr",
     "output_type": "stream",
     "text": [
      "C:\\Users\\Flavio\\anaconda3\\envs\\pyDev\\lib\\site-packages\\urllib3\\connectionpool.py:1045: InsecureRequestWarning: Unverified HTTPS request is being made to host 'api-corp.cna.org.br'. Adding certificate verification is strongly advised. See: https://urllib3.readthedocs.io/en/1.26.x/advanced-usage.html#ssl-warnings\n",
      "  warnings.warn(\n"
     ]
    },
    {
     "name": "stdout",
     "output_type": "stream",
     "text": [
      "7 (10000, 49) (60000, 49)\n"
     ]
    },
    {
     "name": "stderr",
     "output_type": "stream",
     "text": [
      "C:\\Users\\Flavio\\anaconda3\\envs\\pyDev\\lib\\site-packages\\urllib3\\connectionpool.py:1045: InsecureRequestWarning: Unverified HTTPS request is being made to host 'api-corp.cna.org.br'. Adding certificate verification is strongly advised. See: https://urllib3.readthedocs.io/en/1.26.x/advanced-usage.html#ssl-warnings\n",
      "  warnings.warn(\n"
     ]
    },
    {
     "name": "stdout",
     "output_type": "stream",
     "text": [
      "8 (10000, 49) (70000, 49)\n"
     ]
    },
    {
     "name": "stderr",
     "output_type": "stream",
     "text": [
      "C:\\Users\\Flavio\\anaconda3\\envs\\pyDev\\lib\\site-packages\\urllib3\\connectionpool.py:1045: InsecureRequestWarning: Unverified HTTPS request is being made to host 'api-corp.cna.org.br'. Adding certificate verification is strongly advised. See: https://urllib3.readthedocs.io/en/1.26.x/advanced-usage.html#ssl-warnings\n",
      "  warnings.warn(\n"
     ]
    },
    {
     "name": "stdout",
     "output_type": "stream",
     "text": [
      "9 (10000, 49) (80000, 49)\n"
     ]
    },
    {
     "name": "stderr",
     "output_type": "stream",
     "text": [
      "C:\\Users\\Flavio\\anaconda3\\envs\\pyDev\\lib\\site-packages\\urllib3\\connectionpool.py:1045: InsecureRequestWarning: Unverified HTTPS request is being made to host 'api-corp.cna.org.br'. Adding certificate verification is strongly advised. See: https://urllib3.readthedocs.io/en/1.26.x/advanced-usage.html#ssl-warnings\n",
      "  warnings.warn(\n"
     ]
    },
    {
     "name": "stdout",
     "output_type": "stream",
     "text": [
      "10 (10000, 49) (90000, 49)\n"
     ]
    },
    {
     "name": "stderr",
     "output_type": "stream",
     "text": [
      "C:\\Users\\Flavio\\anaconda3\\envs\\pyDev\\lib\\site-packages\\urllib3\\connectionpool.py:1045: InsecureRequestWarning: Unverified HTTPS request is being made to host 'api-corp.cna.org.br'. Adding certificate verification is strongly advised. See: https://urllib3.readthedocs.io/en/1.26.x/advanced-usage.html#ssl-warnings\n",
      "  warnings.warn(\n"
     ]
    },
    {
     "name": "stdout",
     "output_type": "stream",
     "text": [
      "11 (10000, 49) (100000, 49)\n"
     ]
    },
    {
     "name": "stderr",
     "output_type": "stream",
     "text": [
      "C:\\Users\\Flavio\\anaconda3\\envs\\pyDev\\lib\\site-packages\\urllib3\\connectionpool.py:1045: InsecureRequestWarning: Unverified HTTPS request is being made to host 'api-corp.cna.org.br'. Adding certificate verification is strongly advised. See: https://urllib3.readthedocs.io/en/1.26.x/advanced-usage.html#ssl-warnings\n",
      "  warnings.warn(\n"
     ]
    },
    {
     "name": "stdout",
     "output_type": "stream",
     "text": [
      "12 (10000, 49) (110000, 49)\n"
     ]
    },
    {
     "name": "stderr",
     "output_type": "stream",
     "text": [
      "C:\\Users\\Flavio\\anaconda3\\envs\\pyDev\\lib\\site-packages\\urllib3\\connectionpool.py:1045: InsecureRequestWarning: Unverified HTTPS request is being made to host 'api-corp.cna.org.br'. Adding certificate verification is strongly advised. See: https://urllib3.readthedocs.io/en/1.26.x/advanced-usage.html#ssl-warnings\n",
      "  warnings.warn(\n"
     ]
    },
    {
     "name": "stdout",
     "output_type": "stream",
     "text": [
      "13 (10000, 49) (120000, 49)\n"
     ]
    },
    {
     "name": "stderr",
     "output_type": "stream",
     "text": [
      "C:\\Users\\Flavio\\anaconda3\\envs\\pyDev\\lib\\site-packages\\urllib3\\connectionpool.py:1045: InsecureRequestWarning: Unverified HTTPS request is being made to host 'api-corp.cna.org.br'. Adding certificate verification is strongly advised. See: https://urllib3.readthedocs.io/en/1.26.x/advanced-usage.html#ssl-warnings\n",
      "  warnings.warn(\n"
     ]
    },
    {
     "name": "stdout",
     "output_type": "stream",
     "text": [
      "14 (10000, 49) (130000, 49)\n"
     ]
    },
    {
     "name": "stderr",
     "output_type": "stream",
     "text": [
      "C:\\Users\\Flavio\\anaconda3\\envs\\pyDev\\lib\\site-packages\\urllib3\\connectionpool.py:1045: InsecureRequestWarning: Unverified HTTPS request is being made to host 'api-corp.cna.org.br'. Adding certificate verification is strongly advised. See: https://urllib3.readthedocs.io/en/1.26.x/advanced-usage.html#ssl-warnings\n",
      "  warnings.warn(\n"
     ]
    },
    {
     "name": "stdout",
     "output_type": "stream",
     "text": [
      "15 (10000, 49) (140000, 49)\n"
     ]
    },
    {
     "name": "stderr",
     "output_type": "stream",
     "text": [
      "C:\\Users\\Flavio\\anaconda3\\envs\\pyDev\\lib\\site-packages\\urllib3\\connectionpool.py:1045: InsecureRequestWarning: Unverified HTTPS request is being made to host 'api-corp.cna.org.br'. Adding certificate verification is strongly advised. See: https://urllib3.readthedocs.io/en/1.26.x/advanced-usage.html#ssl-warnings\n",
      "  warnings.warn(\n"
     ]
    },
    {
     "name": "stdout",
     "output_type": "stream",
     "text": [
      "16 (10000, 49) (150000, 49)\n"
     ]
    },
    {
     "name": "stderr",
     "output_type": "stream",
     "text": [
      "C:\\Users\\Flavio\\anaconda3\\envs\\pyDev\\lib\\site-packages\\urllib3\\connectionpool.py:1045: InsecureRequestWarning: Unverified HTTPS request is being made to host 'api-corp.cna.org.br'. Adding certificate verification is strongly advised. See: https://urllib3.readthedocs.io/en/1.26.x/advanced-usage.html#ssl-warnings\n",
      "  warnings.warn(\n"
     ]
    },
    {
     "name": "stdout",
     "output_type": "stream",
     "text": [
      "17 (10000, 49) (160000, 49)\n"
     ]
    },
    {
     "name": "stderr",
     "output_type": "stream",
     "text": [
      "C:\\Users\\Flavio\\anaconda3\\envs\\pyDev\\lib\\site-packages\\urllib3\\connectionpool.py:1045: InsecureRequestWarning: Unverified HTTPS request is being made to host 'api-corp.cna.org.br'. Adding certificate verification is strongly advised. See: https://urllib3.readthedocs.io/en/1.26.x/advanced-usage.html#ssl-warnings\n",
      "  warnings.warn(\n"
     ]
    },
    {
     "name": "stdout",
     "output_type": "stream",
     "text": [
      "18 (10000, 49) (170000, 49)\n"
     ]
    },
    {
     "name": "stderr",
     "output_type": "stream",
     "text": [
      "C:\\Users\\Flavio\\anaconda3\\envs\\pyDev\\lib\\site-packages\\urllib3\\connectionpool.py:1045: InsecureRequestWarning: Unverified HTTPS request is being made to host 'api-corp.cna.org.br'. Adding certificate verification is strongly advised. See: https://urllib3.readthedocs.io/en/1.26.x/advanced-usage.html#ssl-warnings\n",
      "  warnings.warn(\n"
     ]
    },
    {
     "name": "stdout",
     "output_type": "stream",
     "text": [
      "19 (10000, 49) (180000, 49)\n"
     ]
    },
    {
     "name": "stderr",
     "output_type": "stream",
     "text": [
      "C:\\Users\\Flavio\\anaconda3\\envs\\pyDev\\lib\\site-packages\\urllib3\\connectionpool.py:1045: InsecureRequestWarning: Unverified HTTPS request is being made to host 'api-corp.cna.org.br'. Adding certificate verification is strongly advised. See: https://urllib3.readthedocs.io/en/1.26.x/advanced-usage.html#ssl-warnings\n",
      "  warnings.warn(\n"
     ]
    },
    {
     "name": "stdout",
     "output_type": "stream",
     "text": [
      "20 (10000, 49) (190000, 49)\n"
     ]
    },
    {
     "name": "stderr",
     "output_type": "stream",
     "text": [
      "C:\\Users\\Flavio\\anaconda3\\envs\\pyDev\\lib\\site-packages\\urllib3\\connectionpool.py:1045: InsecureRequestWarning: Unverified HTTPS request is being made to host 'api-corp.cna.org.br'. Adding certificate verification is strongly advised. See: https://urllib3.readthedocs.io/en/1.26.x/advanced-usage.html#ssl-warnings\n",
      "  warnings.warn(\n"
     ]
    },
    {
     "name": "stdout",
     "output_type": "stream",
     "text": [
      "21 (10000, 49) (200000, 49)\n"
     ]
    },
    {
     "name": "stderr",
     "output_type": "stream",
     "text": [
      "C:\\Users\\Flavio\\anaconda3\\envs\\pyDev\\lib\\site-packages\\urllib3\\connectionpool.py:1045: InsecureRequestWarning: Unverified HTTPS request is being made to host 'api-corp.cna.org.br'. Adding certificate verification is strongly advised. See: https://urllib3.readthedocs.io/en/1.26.x/advanced-usage.html#ssl-warnings\n",
      "  warnings.warn(\n"
     ]
    },
    {
     "name": "stdout",
     "output_type": "stream",
     "text": [
      "22 (10000, 49) (210000, 49)\n"
     ]
    },
    {
     "name": "stderr",
     "output_type": "stream",
     "text": [
      "C:\\Users\\Flavio\\anaconda3\\envs\\pyDev\\lib\\site-packages\\urllib3\\connectionpool.py:1045: InsecureRequestWarning: Unverified HTTPS request is being made to host 'api-corp.cna.org.br'. Adding certificate verification is strongly advised. See: https://urllib3.readthedocs.io/en/1.26.x/advanced-usage.html#ssl-warnings\n",
      "  warnings.warn(\n"
     ]
    },
    {
     "name": "stdout",
     "output_type": "stream",
     "text": [
      "23 (10000, 49) (220000, 49)\n"
     ]
    },
    {
     "name": "stderr",
     "output_type": "stream",
     "text": [
      "C:\\Users\\Flavio\\anaconda3\\envs\\pyDev\\lib\\site-packages\\urllib3\\connectionpool.py:1045: InsecureRequestWarning: Unverified HTTPS request is being made to host 'api-corp.cna.org.br'. Adding certificate verification is strongly advised. See: https://urllib3.readthedocs.io/en/1.26.x/advanced-usage.html#ssl-warnings\n",
      "  warnings.warn(\n"
     ]
    },
    {
     "name": "stdout",
     "output_type": "stream",
     "text": [
      "24 (10000, 49) (230000, 49)\n"
     ]
    },
    {
     "name": "stderr",
     "output_type": "stream",
     "text": [
      "C:\\Users\\Flavio\\anaconda3\\envs\\pyDev\\lib\\site-packages\\urllib3\\connectionpool.py:1045: InsecureRequestWarning: Unverified HTTPS request is being made to host 'api-corp.cna.org.br'. Adding certificate verification is strongly advised. See: https://urllib3.readthedocs.io/en/1.26.x/advanced-usage.html#ssl-warnings\n",
      "  warnings.warn(\n"
     ]
    },
    {
     "name": "stdout",
     "output_type": "stream",
     "text": [
      "25 (10000, 49) (240000, 49)\n"
     ]
    },
    {
     "name": "stderr",
     "output_type": "stream",
     "text": [
      "C:\\Users\\Flavio\\anaconda3\\envs\\pyDev\\lib\\site-packages\\urllib3\\connectionpool.py:1045: InsecureRequestWarning: Unverified HTTPS request is being made to host 'api-corp.cna.org.br'. Adding certificate verification is strongly advised. See: https://urllib3.readthedocs.io/en/1.26.x/advanced-usage.html#ssl-warnings\n",
      "  warnings.warn(\n"
     ]
    },
    {
     "name": "stdout",
     "output_type": "stream",
     "text": [
      "26 (10000, 49) (250000, 49)\n"
     ]
    },
    {
     "name": "stderr",
     "output_type": "stream",
     "text": [
      "C:\\Users\\Flavio\\anaconda3\\envs\\pyDev\\lib\\site-packages\\urllib3\\connectionpool.py:1045: InsecureRequestWarning: Unverified HTTPS request is being made to host 'api-corp.cna.org.br'. Adding certificate verification is strongly advised. See: https://urllib3.readthedocs.io/en/1.26.x/advanced-usage.html#ssl-warnings\n",
      "  warnings.warn(\n"
     ]
    },
    {
     "name": "stdout",
     "output_type": "stream",
     "text": [
      "27 (10000, 49) (260000, 49)\n"
     ]
    },
    {
     "name": "stderr",
     "output_type": "stream",
     "text": [
      "C:\\Users\\Flavio\\anaconda3\\envs\\pyDev\\lib\\site-packages\\urllib3\\connectionpool.py:1045: InsecureRequestWarning: Unverified HTTPS request is being made to host 'api-corp.cna.org.br'. Adding certificate verification is strongly advised. See: https://urllib3.readthedocs.io/en/1.26.x/advanced-usage.html#ssl-warnings\n",
      "  warnings.warn(\n"
     ]
    },
    {
     "name": "stdout",
     "output_type": "stream",
     "text": [
      "28 (10000, 49) (270000, 49)\n"
     ]
    },
    {
     "name": "stderr",
     "output_type": "stream",
     "text": [
      "C:\\Users\\Flavio\\anaconda3\\envs\\pyDev\\lib\\site-packages\\urllib3\\connectionpool.py:1045: InsecureRequestWarning: Unverified HTTPS request is being made to host 'api-corp.cna.org.br'. Adding certificate verification is strongly advised. See: https://urllib3.readthedocs.io/en/1.26.x/advanced-usage.html#ssl-warnings\n",
      "  warnings.warn(\n"
     ]
    },
    {
     "name": "stdout",
     "output_type": "stream",
     "text": [
      "29 (10000, 49) (280000, 49)\n"
     ]
    },
    {
     "name": "stderr",
     "output_type": "stream",
     "text": [
      "C:\\Users\\Flavio\\anaconda3\\envs\\pyDev\\lib\\site-packages\\urllib3\\connectionpool.py:1045: InsecureRequestWarning: Unverified HTTPS request is being made to host 'api-corp.cna.org.br'. Adding certificate verification is strongly advised. See: https://urllib3.readthedocs.io/en/1.26.x/advanced-usage.html#ssl-warnings\n",
      "  warnings.warn(\n"
     ]
    },
    {
     "name": "stdout",
     "output_type": "stream",
     "text": [
      "30 (10000, 49) (290000, 49)\n"
     ]
    },
    {
     "name": "stderr",
     "output_type": "stream",
     "text": [
      "C:\\Users\\Flavio\\anaconda3\\envs\\pyDev\\lib\\site-packages\\urllib3\\connectionpool.py:1045: InsecureRequestWarning: Unverified HTTPS request is being made to host 'api-corp.cna.org.br'. Adding certificate verification is strongly advised. See: https://urllib3.readthedocs.io/en/1.26.x/advanced-usage.html#ssl-warnings\n",
      "  warnings.warn(\n"
     ]
    },
    {
     "name": "stdout",
     "output_type": "stream",
     "text": [
      "31 (10000, 49) (300000, 49)\n"
     ]
    },
    {
     "name": "stderr",
     "output_type": "stream",
     "text": [
      "C:\\Users\\Flavio\\anaconda3\\envs\\pyDev\\lib\\site-packages\\urllib3\\connectionpool.py:1045: InsecureRequestWarning: Unverified HTTPS request is being made to host 'api-corp.cna.org.br'. Adding certificate verification is strongly advised. See: https://urllib3.readthedocs.io/en/1.26.x/advanced-usage.html#ssl-warnings\n",
      "  warnings.warn(\n"
     ]
    },
    {
     "name": "stdout",
     "output_type": "stream",
     "text": [
      "32 (10000, 49) (310000, 49)\n"
     ]
    },
    {
     "name": "stderr",
     "output_type": "stream",
     "text": [
      "C:\\Users\\Flavio\\anaconda3\\envs\\pyDev\\lib\\site-packages\\urllib3\\connectionpool.py:1045: InsecureRequestWarning: Unverified HTTPS request is being made to host 'api-corp.cna.org.br'. Adding certificate verification is strongly advised. See: https://urllib3.readthedocs.io/en/1.26.x/advanced-usage.html#ssl-warnings\n",
      "  warnings.warn(\n"
     ]
    },
    {
     "name": "stdout",
     "output_type": "stream",
     "text": [
      "33 (10000, 49) (320000, 49)\n"
     ]
    },
    {
     "name": "stderr",
     "output_type": "stream",
     "text": [
      "C:\\Users\\Flavio\\anaconda3\\envs\\pyDev\\lib\\site-packages\\urllib3\\connectionpool.py:1045: InsecureRequestWarning: Unverified HTTPS request is being made to host 'api-corp.cna.org.br'. Adding certificate verification is strongly advised. See: https://urllib3.readthedocs.io/en/1.26.x/advanced-usage.html#ssl-warnings\n",
      "  warnings.warn(\n"
     ]
    },
    {
     "name": "stdout",
     "output_type": "stream",
     "text": [
      "34 (10000, 49) (330000, 49)\n"
     ]
    },
    {
     "name": "stderr",
     "output_type": "stream",
     "text": [
      "C:\\Users\\Flavio\\anaconda3\\envs\\pyDev\\lib\\site-packages\\urllib3\\connectionpool.py:1045: InsecureRequestWarning: Unverified HTTPS request is being made to host 'api-corp.cna.org.br'. Adding certificate verification is strongly advised. See: https://urllib3.readthedocs.io/en/1.26.x/advanced-usage.html#ssl-warnings\n",
      "  warnings.warn(\n"
     ]
    },
    {
     "name": "stdout",
     "output_type": "stream",
     "text": [
      "35 (10000, 49) (340000, 49)\n"
     ]
    },
    {
     "name": "stderr",
     "output_type": "stream",
     "text": [
      "C:\\Users\\Flavio\\anaconda3\\envs\\pyDev\\lib\\site-packages\\urllib3\\connectionpool.py:1045: InsecureRequestWarning: Unverified HTTPS request is being made to host 'api-corp.cna.org.br'. Adding certificate verification is strongly advised. See: https://urllib3.readthedocs.io/en/1.26.x/advanced-usage.html#ssl-warnings\n",
      "  warnings.warn(\n"
     ]
    },
    {
     "name": "stdout",
     "output_type": "stream",
     "text": [
      "36 (10000, 49) (350000, 49)\n"
     ]
    },
    {
     "name": "stderr",
     "output_type": "stream",
     "text": [
      "C:\\Users\\Flavio\\anaconda3\\envs\\pyDev\\lib\\site-packages\\urllib3\\connectionpool.py:1045: InsecureRequestWarning: Unverified HTTPS request is being made to host 'api-corp.cna.org.br'. Adding certificate verification is strongly advised. See: https://urllib3.readthedocs.io/en/1.26.x/advanced-usage.html#ssl-warnings\n",
      "  warnings.warn(\n"
     ]
    },
    {
     "name": "stdout",
     "output_type": "stream",
     "text": [
      "37 (10000, 49) (360000, 49)\n"
     ]
    },
    {
     "name": "stderr",
     "output_type": "stream",
     "text": [
      "C:\\Users\\Flavio\\anaconda3\\envs\\pyDev\\lib\\site-packages\\urllib3\\connectionpool.py:1045: InsecureRequestWarning: Unverified HTTPS request is being made to host 'api-corp.cna.org.br'. Adding certificate verification is strongly advised. See: https://urllib3.readthedocs.io/en/1.26.x/advanced-usage.html#ssl-warnings\n",
      "  warnings.warn(\n"
     ]
    },
    {
     "name": "stdout",
     "output_type": "stream",
     "text": [
      "38 (10000, 49) (370000, 49)\n"
     ]
    },
    {
     "name": "stderr",
     "output_type": "stream",
     "text": [
      "C:\\Users\\Flavio\\anaconda3\\envs\\pyDev\\lib\\site-packages\\urllib3\\connectionpool.py:1045: InsecureRequestWarning: Unverified HTTPS request is being made to host 'api-corp.cna.org.br'. Adding certificate verification is strongly advised. See: https://urllib3.readthedocs.io/en/1.26.x/advanced-usage.html#ssl-warnings\n",
      "  warnings.warn(\n"
     ]
    },
    {
     "name": "stdout",
     "output_type": "stream",
     "text": [
      "39 (10000, 49) (380000, 49)\n"
     ]
    },
    {
     "name": "stderr",
     "output_type": "stream",
     "text": [
      "C:\\Users\\Flavio\\anaconda3\\envs\\pyDev\\lib\\site-packages\\urllib3\\connectionpool.py:1045: InsecureRequestWarning: Unverified HTTPS request is being made to host 'api-corp.cna.org.br'. Adding certificate verification is strongly advised. See: https://urllib3.readthedocs.io/en/1.26.x/advanced-usage.html#ssl-warnings\n",
      "  warnings.warn(\n"
     ]
    },
    {
     "name": "stdout",
     "output_type": "stream",
     "text": [
      "40 (10000, 49) (390000, 49)\n"
     ]
    },
    {
     "name": "stderr",
     "output_type": "stream",
     "text": [
      "C:\\Users\\Flavio\\anaconda3\\envs\\pyDev\\lib\\site-packages\\urllib3\\connectionpool.py:1045: InsecureRequestWarning: Unverified HTTPS request is being made to host 'api-corp.cna.org.br'. Adding certificate verification is strongly advised. See: https://urllib3.readthedocs.io/en/1.26.x/advanced-usage.html#ssl-warnings\n",
      "  warnings.warn(\n"
     ]
    },
    {
     "name": "stdout",
     "output_type": "stream",
     "text": [
      "41 (10000, 49) (400000, 49)\n"
     ]
    },
    {
     "name": "stderr",
     "output_type": "stream",
     "text": [
      "C:\\Users\\Flavio\\anaconda3\\envs\\pyDev\\lib\\site-packages\\urllib3\\connectionpool.py:1045: InsecureRequestWarning: Unverified HTTPS request is being made to host 'api-corp.cna.org.br'. Adding certificate verification is strongly advised. See: https://urllib3.readthedocs.io/en/1.26.x/advanced-usage.html#ssl-warnings\n",
      "  warnings.warn(\n"
     ]
    },
    {
     "name": "stdout",
     "output_type": "stream",
     "text": [
      "42 (10000, 49) (410000, 49)\n"
     ]
    },
    {
     "name": "stderr",
     "output_type": "stream",
     "text": [
      "C:\\Users\\Flavio\\anaconda3\\envs\\pyDev\\lib\\site-packages\\urllib3\\connectionpool.py:1045: InsecureRequestWarning: Unverified HTTPS request is being made to host 'api-corp.cna.org.br'. Adding certificate verification is strongly advised. See: https://urllib3.readthedocs.io/en/1.26.x/advanced-usage.html#ssl-warnings\n",
      "  warnings.warn(\n"
     ]
    },
    {
     "name": "stdout",
     "output_type": "stream",
     "text": [
      "43 (10000, 49) (420000, 49)\n"
     ]
    },
    {
     "name": "stderr",
     "output_type": "stream",
     "text": [
      "C:\\Users\\Flavio\\anaconda3\\envs\\pyDev\\lib\\site-packages\\urllib3\\connectionpool.py:1045: InsecureRequestWarning: Unverified HTTPS request is being made to host 'api-corp.cna.org.br'. Adding certificate verification is strongly advised. See: https://urllib3.readthedocs.io/en/1.26.x/advanced-usage.html#ssl-warnings\n",
      "  warnings.warn(\n"
     ]
    },
    {
     "name": "stdout",
     "output_type": "stream",
     "text": [
      "44 (10000, 49) (430000, 49)\n"
     ]
    },
    {
     "name": "stderr",
     "output_type": "stream",
     "text": [
      "C:\\Users\\Flavio\\anaconda3\\envs\\pyDev\\lib\\site-packages\\urllib3\\connectionpool.py:1045: InsecureRequestWarning: Unverified HTTPS request is being made to host 'api-corp.cna.org.br'. Adding certificate verification is strongly advised. See: https://urllib3.readthedocs.io/en/1.26.x/advanced-usage.html#ssl-warnings\n",
      "  warnings.warn(\n"
     ]
    },
    {
     "name": "stdout",
     "output_type": "stream",
     "text": [
      "45 (10000, 49) (440000, 49)\n"
     ]
    },
    {
     "name": "stderr",
     "output_type": "stream",
     "text": [
      "C:\\Users\\Flavio\\anaconda3\\envs\\pyDev\\lib\\site-packages\\urllib3\\connectionpool.py:1045: InsecureRequestWarning: Unverified HTTPS request is being made to host 'api-corp.cna.org.br'. Adding certificate verification is strongly advised. See: https://urllib3.readthedocs.io/en/1.26.x/advanced-usage.html#ssl-warnings\n",
      "  warnings.warn(\n"
     ]
    },
    {
     "name": "stdout",
     "output_type": "stream",
     "text": [
      "46 (10000, 49) (450000, 49)\n"
     ]
    },
    {
     "name": "stderr",
     "output_type": "stream",
     "text": [
      "C:\\Users\\Flavio\\anaconda3\\envs\\pyDev\\lib\\site-packages\\urllib3\\connectionpool.py:1045: InsecureRequestWarning: Unverified HTTPS request is being made to host 'api-corp.cna.org.br'. Adding certificate verification is strongly advised. See: https://urllib3.readthedocs.io/en/1.26.x/advanced-usage.html#ssl-warnings\n",
      "  warnings.warn(\n"
     ]
    },
    {
     "name": "stdout",
     "output_type": "stream",
     "text": [
      "47 (10000, 49) (460000, 49)\n"
     ]
    },
    {
     "name": "stderr",
     "output_type": "stream",
     "text": [
      "C:\\Users\\Flavio\\anaconda3\\envs\\pyDev\\lib\\site-packages\\urllib3\\connectionpool.py:1045: InsecureRequestWarning: Unverified HTTPS request is being made to host 'api-corp.cna.org.br'. Adding certificate verification is strongly advised. See: https://urllib3.readthedocs.io/en/1.26.x/advanced-usage.html#ssl-warnings\n",
      "  warnings.warn(\n"
     ]
    },
    {
     "name": "stdout",
     "output_type": "stream",
     "text": [
      "48 (10000, 49) (470000, 49)\n"
     ]
    },
    {
     "name": "stderr",
     "output_type": "stream",
     "text": [
      "C:\\Users\\Flavio\\anaconda3\\envs\\pyDev\\lib\\site-packages\\urllib3\\connectionpool.py:1045: InsecureRequestWarning: Unverified HTTPS request is being made to host 'api-corp.cna.org.br'. Adding certificate verification is strongly advised. See: https://urllib3.readthedocs.io/en/1.26.x/advanced-usage.html#ssl-warnings\n",
      "  warnings.warn(\n"
     ]
    },
    {
     "name": "stdout",
     "output_type": "stream",
     "text": [
      "49 (10000, 49) (480000, 49)\n"
     ]
    },
    {
     "name": "stderr",
     "output_type": "stream",
     "text": [
      "C:\\Users\\Flavio\\anaconda3\\envs\\pyDev\\lib\\site-packages\\urllib3\\connectionpool.py:1045: InsecureRequestWarning: Unverified HTTPS request is being made to host 'api-corp.cna.org.br'. Adding certificate verification is strongly advised. See: https://urllib3.readthedocs.io/en/1.26.x/advanced-usage.html#ssl-warnings\n",
      "  warnings.warn(\n"
     ]
    },
    {
     "name": "stdout",
     "output_type": "stream",
     "text": [
      "50 (10000, 49) (490000, 49)\n"
     ]
    },
    {
     "name": "stderr",
     "output_type": "stream",
     "text": [
      "C:\\Users\\Flavio\\anaconda3\\envs\\pyDev\\lib\\site-packages\\urllib3\\connectionpool.py:1045: InsecureRequestWarning: Unverified HTTPS request is being made to host 'api-corp.cna.org.br'. Adding certificate verification is strongly advised. See: https://urllib3.readthedocs.io/en/1.26.x/advanced-usage.html#ssl-warnings\n",
      "  warnings.warn(\n"
     ]
    },
    {
     "name": "stdout",
     "output_type": "stream",
     "text": [
      "51 (10000, 49) (500000, 49)\n"
     ]
    },
    {
     "name": "stderr",
     "output_type": "stream",
     "text": [
      "C:\\Users\\Flavio\\anaconda3\\envs\\pyDev\\lib\\site-packages\\urllib3\\connectionpool.py:1045: InsecureRequestWarning: Unverified HTTPS request is being made to host 'api-corp.cna.org.br'. Adding certificate verification is strongly advised. See: https://urllib3.readthedocs.io/en/1.26.x/advanced-usage.html#ssl-warnings\n",
      "  warnings.warn(\n"
     ]
    },
    {
     "name": "stdout",
     "output_type": "stream",
     "text": [
      "52 (10000, 49) (510000, 49)\n"
     ]
    },
    {
     "name": "stderr",
     "output_type": "stream",
     "text": [
      "C:\\Users\\Flavio\\anaconda3\\envs\\pyDev\\lib\\site-packages\\urllib3\\connectionpool.py:1045: InsecureRequestWarning: Unverified HTTPS request is being made to host 'api-corp.cna.org.br'. Adding certificate verification is strongly advised. See: https://urllib3.readthedocs.io/en/1.26.x/advanced-usage.html#ssl-warnings\n",
      "  warnings.warn(\n"
     ]
    },
    {
     "name": "stdout",
     "output_type": "stream",
     "text": [
      "53 (10000, 49) (520000, 49)\n"
     ]
    },
    {
     "name": "stderr",
     "output_type": "stream",
     "text": [
      "C:\\Users\\Flavio\\anaconda3\\envs\\pyDev\\lib\\site-packages\\urllib3\\connectionpool.py:1045: InsecureRequestWarning: Unverified HTTPS request is being made to host 'api-corp.cna.org.br'. Adding certificate verification is strongly advised. See: https://urllib3.readthedocs.io/en/1.26.x/advanced-usage.html#ssl-warnings\n",
      "  warnings.warn(\n"
     ]
    },
    {
     "name": "stdout",
     "output_type": "stream",
     "text": [
      "54 (10000, 49) (530000, 49)\n"
     ]
    },
    {
     "name": "stderr",
     "output_type": "stream",
     "text": [
      "C:\\Users\\Flavio\\anaconda3\\envs\\pyDev\\lib\\site-packages\\urllib3\\connectionpool.py:1045: InsecureRequestWarning: Unverified HTTPS request is being made to host 'api-corp.cna.org.br'. Adding certificate verification is strongly advised. See: https://urllib3.readthedocs.io/en/1.26.x/advanced-usage.html#ssl-warnings\n",
      "  warnings.warn(\n"
     ]
    },
    {
     "name": "stdout",
     "output_type": "stream",
     "text": [
      "55 (10000, 49) (540000, 49)\n"
     ]
    },
    {
     "name": "stderr",
     "output_type": "stream",
     "text": [
      "C:\\Users\\Flavio\\anaconda3\\envs\\pyDev\\lib\\site-packages\\urllib3\\connectionpool.py:1045: InsecureRequestWarning: Unverified HTTPS request is being made to host 'api-corp.cna.org.br'. Adding certificate verification is strongly advised. See: https://urllib3.readthedocs.io/en/1.26.x/advanced-usage.html#ssl-warnings\n",
      "  warnings.warn(\n"
     ]
    },
    {
     "name": "stdout",
     "output_type": "stream",
     "text": [
      "56 (10000, 49) (550000, 49)\n"
     ]
    },
    {
     "name": "stderr",
     "output_type": "stream",
     "text": [
      "C:\\Users\\Flavio\\anaconda3\\envs\\pyDev\\lib\\site-packages\\urllib3\\connectionpool.py:1045: InsecureRequestWarning: Unverified HTTPS request is being made to host 'api-corp.cna.org.br'. Adding certificate verification is strongly advised. See: https://urllib3.readthedocs.io/en/1.26.x/advanced-usage.html#ssl-warnings\n",
      "  warnings.warn(\n"
     ]
    },
    {
     "name": "stdout",
     "output_type": "stream",
     "text": [
      "57 (10000, 49) (560000, 49)\n"
     ]
    },
    {
     "name": "stderr",
     "output_type": "stream",
     "text": [
      "C:\\Users\\Flavio\\anaconda3\\envs\\pyDev\\lib\\site-packages\\urllib3\\connectionpool.py:1045: InsecureRequestWarning: Unverified HTTPS request is being made to host 'api-corp.cna.org.br'. Adding certificate verification is strongly advised. See: https://urllib3.readthedocs.io/en/1.26.x/advanced-usage.html#ssl-warnings\n",
      "  warnings.warn(\n"
     ]
    },
    {
     "name": "stdout",
     "output_type": "stream",
     "text": [
      "58 (10000, 49) (570000, 49)\n"
     ]
    },
    {
     "name": "stderr",
     "output_type": "stream",
     "text": [
      "C:\\Users\\Flavio\\anaconda3\\envs\\pyDev\\lib\\site-packages\\urllib3\\connectionpool.py:1045: InsecureRequestWarning: Unverified HTTPS request is being made to host 'api-corp.cna.org.br'. Adding certificate verification is strongly advised. See: https://urllib3.readthedocs.io/en/1.26.x/advanced-usage.html#ssl-warnings\n",
      "  warnings.warn(\n"
     ]
    },
    {
     "name": "stdout",
     "output_type": "stream",
     "text": [
      "59 (10000, 49) (580000, 49)\n"
     ]
    },
    {
     "name": "stderr",
     "output_type": "stream",
     "text": [
      "C:\\Users\\Flavio\\anaconda3\\envs\\pyDev\\lib\\site-packages\\urllib3\\connectionpool.py:1045: InsecureRequestWarning: Unverified HTTPS request is being made to host 'api-corp.cna.org.br'. Adding certificate verification is strongly advised. See: https://urllib3.readthedocs.io/en/1.26.x/advanced-usage.html#ssl-warnings\n",
      "  warnings.warn(\n"
     ]
    },
    {
     "name": "stdout",
     "output_type": "stream",
     "text": [
      "60 (10000, 49) (590000, 49)\n"
     ]
    },
    {
     "name": "stderr",
     "output_type": "stream",
     "text": [
      "C:\\Users\\Flavio\\anaconda3\\envs\\pyDev\\lib\\site-packages\\urllib3\\connectionpool.py:1045: InsecureRequestWarning: Unverified HTTPS request is being made to host 'api-corp.cna.org.br'. Adding certificate verification is strongly advised. See: https://urllib3.readthedocs.io/en/1.26.x/advanced-usage.html#ssl-warnings\n",
      "  warnings.warn(\n"
     ]
    },
    {
     "name": "stdout",
     "output_type": "stream",
     "text": [
      "61 (10000, 49) (600000, 49)\n"
     ]
    },
    {
     "name": "stderr",
     "output_type": "stream",
     "text": [
      "C:\\Users\\Flavio\\anaconda3\\envs\\pyDev\\lib\\site-packages\\urllib3\\connectionpool.py:1045: InsecureRequestWarning: Unverified HTTPS request is being made to host 'api-corp.cna.org.br'. Adding certificate verification is strongly advised. See: https://urllib3.readthedocs.io/en/1.26.x/advanced-usage.html#ssl-warnings\n",
      "  warnings.warn(\n"
     ]
    },
    {
     "name": "stdout",
     "output_type": "stream",
     "text": [
      "62 (10000, 49) (610000, 49)\n"
     ]
    },
    {
     "name": "stderr",
     "output_type": "stream",
     "text": [
      "C:\\Users\\Flavio\\anaconda3\\envs\\pyDev\\lib\\site-packages\\urllib3\\connectionpool.py:1045: InsecureRequestWarning: Unverified HTTPS request is being made to host 'api-corp.cna.org.br'. Adding certificate verification is strongly advised. See: https://urllib3.readthedocs.io/en/1.26.x/advanced-usage.html#ssl-warnings\n",
      "  warnings.warn(\n"
     ]
    },
    {
     "name": "stdout",
     "output_type": "stream",
     "text": [
      "63 (10000, 49) (620000, 49)\n"
     ]
    },
    {
     "name": "stderr",
     "output_type": "stream",
     "text": [
      "C:\\Users\\Flavio\\anaconda3\\envs\\pyDev\\lib\\site-packages\\urllib3\\connectionpool.py:1045: InsecureRequestWarning: Unverified HTTPS request is being made to host 'api-corp.cna.org.br'. Adding certificate verification is strongly advised. See: https://urllib3.readthedocs.io/en/1.26.x/advanced-usage.html#ssl-warnings\n",
      "  warnings.warn(\n"
     ]
    },
    {
     "name": "stdout",
     "output_type": "stream",
     "text": [
      "64 (10000, 49) (630000, 49)\n"
     ]
    },
    {
     "name": "stderr",
     "output_type": "stream",
     "text": [
      "C:\\Users\\Flavio\\anaconda3\\envs\\pyDev\\lib\\site-packages\\urllib3\\connectionpool.py:1045: InsecureRequestWarning: Unverified HTTPS request is being made to host 'api-corp.cna.org.br'. Adding certificate verification is strongly advised. See: https://urllib3.readthedocs.io/en/1.26.x/advanced-usage.html#ssl-warnings\n",
      "  warnings.warn(\n"
     ]
    },
    {
     "name": "stdout",
     "output_type": "stream",
     "text": [
      "65 (10000, 49) (640000, 49)\n"
     ]
    },
    {
     "name": "stderr",
     "output_type": "stream",
     "text": [
      "C:\\Users\\Flavio\\anaconda3\\envs\\pyDev\\lib\\site-packages\\urllib3\\connectionpool.py:1045: InsecureRequestWarning: Unverified HTTPS request is being made to host 'api-corp.cna.org.br'. Adding certificate verification is strongly advised. See: https://urllib3.readthedocs.io/en/1.26.x/advanced-usage.html#ssl-warnings\n",
      "  warnings.warn(\n"
     ]
    },
    {
     "name": "stdout",
     "output_type": "stream",
     "text": [
      "66 (10000, 49) (650000, 49)\n"
     ]
    },
    {
     "name": "stderr",
     "output_type": "stream",
     "text": [
      "C:\\Users\\Flavio\\anaconda3\\envs\\pyDev\\lib\\site-packages\\urllib3\\connectionpool.py:1045: InsecureRequestWarning: Unverified HTTPS request is being made to host 'api-corp.cna.org.br'. Adding certificate verification is strongly advised. See: https://urllib3.readthedocs.io/en/1.26.x/advanced-usage.html#ssl-warnings\n",
      "  warnings.warn(\n"
     ]
    },
    {
     "name": "stdout",
     "output_type": "stream",
     "text": [
      "67 (10000, 49) (660000, 49)\n"
     ]
    },
    {
     "name": "stderr",
     "output_type": "stream",
     "text": [
      "C:\\Users\\Flavio\\anaconda3\\envs\\pyDev\\lib\\site-packages\\urllib3\\connectionpool.py:1045: InsecureRequestWarning: Unverified HTTPS request is being made to host 'api-corp.cna.org.br'. Adding certificate verification is strongly advised. See: https://urllib3.readthedocs.io/en/1.26.x/advanced-usage.html#ssl-warnings\n",
      "  warnings.warn(\n"
     ]
    },
    {
     "name": "stdout",
     "output_type": "stream",
     "text": [
      "68 (10000, 49) (670000, 49)\n"
     ]
    },
    {
     "name": "stderr",
     "output_type": "stream",
     "text": [
      "C:\\Users\\Flavio\\anaconda3\\envs\\pyDev\\lib\\site-packages\\urllib3\\connectionpool.py:1045: InsecureRequestWarning: Unverified HTTPS request is being made to host 'api-corp.cna.org.br'. Adding certificate verification is strongly advised. See: https://urllib3.readthedocs.io/en/1.26.x/advanced-usage.html#ssl-warnings\n",
      "  warnings.warn(\n"
     ]
    },
    {
     "name": "stdout",
     "output_type": "stream",
     "text": [
      "69 (10000, 49) (680000, 49)\n"
     ]
    },
    {
     "name": "stderr",
     "output_type": "stream",
     "text": [
      "C:\\Users\\Flavio\\anaconda3\\envs\\pyDev\\lib\\site-packages\\urllib3\\connectionpool.py:1045: InsecureRequestWarning: Unverified HTTPS request is being made to host 'api-corp.cna.org.br'. Adding certificate verification is strongly advised. See: https://urllib3.readthedocs.io/en/1.26.x/advanced-usage.html#ssl-warnings\n",
      "  warnings.warn(\n"
     ]
    },
    {
     "name": "stdout",
     "output_type": "stream",
     "text": [
      "70 (10000, 49) (690000, 49)\n"
     ]
    },
    {
     "name": "stderr",
     "output_type": "stream",
     "text": [
      "C:\\Users\\Flavio\\anaconda3\\envs\\pyDev\\lib\\site-packages\\urllib3\\connectionpool.py:1045: InsecureRequestWarning: Unverified HTTPS request is being made to host 'api-corp.cna.org.br'. Adding certificate verification is strongly advised. See: https://urllib3.readthedocs.io/en/1.26.x/advanced-usage.html#ssl-warnings\n",
      "  warnings.warn(\n"
     ]
    },
    {
     "name": "stdout",
     "output_type": "stream",
     "text": [
      "71 (10000, 49) (700000, 49)\n"
     ]
    },
    {
     "name": "stderr",
     "output_type": "stream",
     "text": [
      "C:\\Users\\Flavio\\anaconda3\\envs\\pyDev\\lib\\site-packages\\urllib3\\connectionpool.py:1045: InsecureRequestWarning: Unverified HTTPS request is being made to host 'api-corp.cna.org.br'. Adding certificate verification is strongly advised. See: https://urllib3.readthedocs.io/en/1.26.x/advanced-usage.html#ssl-warnings\n",
      "  warnings.warn(\n"
     ]
    },
    {
     "name": "stdout",
     "output_type": "stream",
     "text": [
      "72 (10000, 49) (710000, 49)\n"
     ]
    },
    {
     "name": "stderr",
     "output_type": "stream",
     "text": [
      "C:\\Users\\Flavio\\anaconda3\\envs\\pyDev\\lib\\site-packages\\urllib3\\connectionpool.py:1045: InsecureRequestWarning: Unverified HTTPS request is being made to host 'api-corp.cna.org.br'. Adding certificate verification is strongly advised. See: https://urllib3.readthedocs.io/en/1.26.x/advanced-usage.html#ssl-warnings\n",
      "  warnings.warn(\n"
     ]
    },
    {
     "name": "stdout",
     "output_type": "stream",
     "text": [
      "73 (10000, 49) (720000, 49)\n"
     ]
    },
    {
     "name": "stderr",
     "output_type": "stream",
     "text": [
      "C:\\Users\\Flavio\\anaconda3\\envs\\pyDev\\lib\\site-packages\\urllib3\\connectionpool.py:1045: InsecureRequestWarning: Unverified HTTPS request is being made to host 'api-corp.cna.org.br'. Adding certificate verification is strongly advised. See: https://urllib3.readthedocs.io/en/1.26.x/advanced-usage.html#ssl-warnings\n",
      "  warnings.warn(\n"
     ]
    },
    {
     "name": "stdout",
     "output_type": "stream",
     "text": [
      "74 (10000, 49) (730000, 49)\n"
     ]
    },
    {
     "name": "stderr",
     "output_type": "stream",
     "text": [
      "C:\\Users\\Flavio\\anaconda3\\envs\\pyDev\\lib\\site-packages\\urllib3\\connectionpool.py:1045: InsecureRequestWarning: Unverified HTTPS request is being made to host 'api-corp.cna.org.br'. Adding certificate verification is strongly advised. See: https://urllib3.readthedocs.io/en/1.26.x/advanced-usage.html#ssl-warnings\n",
      "  warnings.warn(\n"
     ]
    },
    {
     "name": "stdout",
     "output_type": "stream",
     "text": [
      "75 (10000, 49) (740000, 49)\n"
     ]
    },
    {
     "name": "stderr",
     "output_type": "stream",
     "text": [
      "C:\\Users\\Flavio\\anaconda3\\envs\\pyDev\\lib\\site-packages\\urllib3\\connectionpool.py:1045: InsecureRequestWarning: Unverified HTTPS request is being made to host 'api-corp.cna.org.br'. Adding certificate verification is strongly advised. See: https://urllib3.readthedocs.io/en/1.26.x/advanced-usage.html#ssl-warnings\n",
      "  warnings.warn(\n"
     ]
    },
    {
     "name": "stdout",
     "output_type": "stream",
     "text": [
      "76 (10000, 49) (750000, 49)\n"
     ]
    },
    {
     "name": "stderr",
     "output_type": "stream",
     "text": [
      "C:\\Users\\Flavio\\anaconda3\\envs\\pyDev\\lib\\site-packages\\urllib3\\connectionpool.py:1045: InsecureRequestWarning: Unverified HTTPS request is being made to host 'api-corp.cna.org.br'. Adding certificate verification is strongly advised. See: https://urllib3.readthedocs.io/en/1.26.x/advanced-usage.html#ssl-warnings\n",
      "  warnings.warn(\n"
     ]
    },
    {
     "name": "stdout",
     "output_type": "stream",
     "text": [
      "77 (10000, 49) (760000, 49)\n"
     ]
    },
    {
     "name": "stderr",
     "output_type": "stream",
     "text": [
      "C:\\Users\\Flavio\\anaconda3\\envs\\pyDev\\lib\\site-packages\\urllib3\\connectionpool.py:1045: InsecureRequestWarning: Unverified HTTPS request is being made to host 'api-corp.cna.org.br'. Adding certificate verification is strongly advised. See: https://urllib3.readthedocs.io/en/1.26.x/advanced-usage.html#ssl-warnings\n",
      "  warnings.warn(\n"
     ]
    },
    {
     "name": "stdout",
     "output_type": "stream",
     "text": [
      "78 (10000, 49) (770000, 49)\n"
     ]
    },
    {
     "name": "stderr",
     "output_type": "stream",
     "text": [
      "C:\\Users\\Flavio\\anaconda3\\envs\\pyDev\\lib\\site-packages\\urllib3\\connectionpool.py:1045: InsecureRequestWarning: Unverified HTTPS request is being made to host 'api-corp.cna.org.br'. Adding certificate verification is strongly advised. See: https://urllib3.readthedocs.io/en/1.26.x/advanced-usage.html#ssl-warnings\n",
      "  warnings.warn(\n"
     ]
    },
    {
     "name": "stdout",
     "output_type": "stream",
     "text": [
      "79 (10000, 49) (780000, 49)\n"
     ]
    },
    {
     "name": "stderr",
     "output_type": "stream",
     "text": [
      "C:\\Users\\Flavio\\anaconda3\\envs\\pyDev\\lib\\site-packages\\urllib3\\connectionpool.py:1045: InsecureRequestWarning: Unverified HTTPS request is being made to host 'api-corp.cna.org.br'. Adding certificate verification is strongly advised. See: https://urllib3.readthedocs.io/en/1.26.x/advanced-usage.html#ssl-warnings\n",
      "  warnings.warn(\n"
     ]
    },
    {
     "name": "stdout",
     "output_type": "stream",
     "text": [
      "80 (10000, 49) (790000, 49)\n"
     ]
    },
    {
     "name": "stderr",
     "output_type": "stream",
     "text": [
      "C:\\Users\\Flavio\\anaconda3\\envs\\pyDev\\lib\\site-packages\\urllib3\\connectionpool.py:1045: InsecureRequestWarning: Unverified HTTPS request is being made to host 'api-corp.cna.org.br'. Adding certificate verification is strongly advised. See: https://urllib3.readthedocs.io/en/1.26.x/advanced-usage.html#ssl-warnings\n",
      "  warnings.warn(\n"
     ]
    },
    {
     "name": "stdout",
     "output_type": "stream",
     "text": [
      "81 (10000, 49) (800000, 49)\n"
     ]
    },
    {
     "name": "stderr",
     "output_type": "stream",
     "text": [
      "C:\\Users\\Flavio\\anaconda3\\envs\\pyDev\\lib\\site-packages\\urllib3\\connectionpool.py:1045: InsecureRequestWarning: Unverified HTTPS request is being made to host 'api-corp.cna.org.br'. Adding certificate verification is strongly advised. See: https://urllib3.readthedocs.io/en/1.26.x/advanced-usage.html#ssl-warnings\n",
      "  warnings.warn(\n"
     ]
    },
    {
     "name": "stdout",
     "output_type": "stream",
     "text": [
      "82 (10000, 49) (810000, 49)\n"
     ]
    },
    {
     "name": "stderr",
     "output_type": "stream",
     "text": [
      "C:\\Users\\Flavio\\anaconda3\\envs\\pyDev\\lib\\site-packages\\urllib3\\connectionpool.py:1045: InsecureRequestWarning: Unverified HTTPS request is being made to host 'api-corp.cna.org.br'. Adding certificate verification is strongly advised. See: https://urllib3.readthedocs.io/en/1.26.x/advanced-usage.html#ssl-warnings\n",
      "  warnings.warn(\n"
     ]
    },
    {
     "name": "stdout",
     "output_type": "stream",
     "text": [
      "83 (10000, 49) (820000, 49)\n"
     ]
    },
    {
     "name": "stderr",
     "output_type": "stream",
     "text": [
      "C:\\Users\\Flavio\\anaconda3\\envs\\pyDev\\lib\\site-packages\\urllib3\\connectionpool.py:1045: InsecureRequestWarning: Unverified HTTPS request is being made to host 'api-corp.cna.org.br'. Adding certificate verification is strongly advised. See: https://urllib3.readthedocs.io/en/1.26.x/advanced-usage.html#ssl-warnings\n",
      "  warnings.warn(\n"
     ]
    },
    {
     "name": "stdout",
     "output_type": "stream",
     "text": [
      "84 (10000, 49) (830000, 49)\n"
     ]
    },
    {
     "name": "stderr",
     "output_type": "stream",
     "text": [
      "C:\\Users\\Flavio\\anaconda3\\envs\\pyDev\\lib\\site-packages\\urllib3\\connectionpool.py:1045: InsecureRequestWarning: Unverified HTTPS request is being made to host 'api-corp.cna.org.br'. Adding certificate verification is strongly advised. See: https://urllib3.readthedocs.io/en/1.26.x/advanced-usage.html#ssl-warnings\n",
      "  warnings.warn(\n"
     ]
    },
    {
     "name": "stdout",
     "output_type": "stream",
     "text": [
      "85 (10000, 49) (840000, 49)\n"
     ]
    },
    {
     "name": "stderr",
     "output_type": "stream",
     "text": [
      "C:\\Users\\Flavio\\anaconda3\\envs\\pyDev\\lib\\site-packages\\urllib3\\connectionpool.py:1045: InsecureRequestWarning: Unverified HTTPS request is being made to host 'api-corp.cna.org.br'. Adding certificate verification is strongly advised. See: https://urllib3.readthedocs.io/en/1.26.x/advanced-usage.html#ssl-warnings\n",
      "  warnings.warn(\n"
     ]
    },
    {
     "name": "stdout",
     "output_type": "stream",
     "text": [
      "86 (10000, 49) (850000, 49)\n"
     ]
    },
    {
     "name": "stderr",
     "output_type": "stream",
     "text": [
      "C:\\Users\\Flavio\\anaconda3\\envs\\pyDev\\lib\\site-packages\\urllib3\\connectionpool.py:1045: InsecureRequestWarning: Unverified HTTPS request is being made to host 'api-corp.cna.org.br'. Adding certificate verification is strongly advised. See: https://urllib3.readthedocs.io/en/1.26.x/advanced-usage.html#ssl-warnings\n",
      "  warnings.warn(\n"
     ]
    },
    {
     "name": "stdout",
     "output_type": "stream",
     "text": [
      "87 (10000, 49) (860000, 49)\n"
     ]
    },
    {
     "name": "stderr",
     "output_type": "stream",
     "text": [
      "C:\\Users\\Flavio\\anaconda3\\envs\\pyDev\\lib\\site-packages\\urllib3\\connectionpool.py:1045: InsecureRequestWarning: Unverified HTTPS request is being made to host 'api-corp.cna.org.br'. Adding certificate verification is strongly advised. See: https://urllib3.readthedocs.io/en/1.26.x/advanced-usage.html#ssl-warnings\n",
      "  warnings.warn(\n"
     ]
    },
    {
     "name": "stdout",
     "output_type": "stream",
     "text": [
      "88 (10000, 49) (870000, 49)\n"
     ]
    },
    {
     "name": "stderr",
     "output_type": "stream",
     "text": [
      "C:\\Users\\Flavio\\anaconda3\\envs\\pyDev\\lib\\site-packages\\urllib3\\connectionpool.py:1045: InsecureRequestWarning: Unverified HTTPS request is being made to host 'api-corp.cna.org.br'. Adding certificate verification is strongly advised. See: https://urllib3.readthedocs.io/en/1.26.x/advanced-usage.html#ssl-warnings\n",
      "  warnings.warn(\n"
     ]
    },
    {
     "name": "stdout",
     "output_type": "stream",
     "text": [
      "89 (10000, 49) (880000, 49)\n"
     ]
    },
    {
     "name": "stderr",
     "output_type": "stream",
     "text": [
      "C:\\Users\\Flavio\\anaconda3\\envs\\pyDev\\lib\\site-packages\\urllib3\\connectionpool.py:1045: InsecureRequestWarning: Unverified HTTPS request is being made to host 'api-corp.cna.org.br'. Adding certificate verification is strongly advised. See: https://urllib3.readthedocs.io/en/1.26.x/advanced-usage.html#ssl-warnings\n",
      "  warnings.warn(\n"
     ]
    },
    {
     "name": "stdout",
     "output_type": "stream",
     "text": [
      "90 (10000, 49) (890000, 49)\n"
     ]
    },
    {
     "name": "stderr",
     "output_type": "stream",
     "text": [
      "C:\\Users\\Flavio\\anaconda3\\envs\\pyDev\\lib\\site-packages\\urllib3\\connectionpool.py:1045: InsecureRequestWarning: Unverified HTTPS request is being made to host 'api-corp.cna.org.br'. Adding certificate verification is strongly advised. See: https://urllib3.readthedocs.io/en/1.26.x/advanced-usage.html#ssl-warnings\n",
      "  warnings.warn(\n"
     ]
    },
    {
     "name": "stdout",
     "output_type": "stream",
     "text": [
      "91 (10000, 49) (900000, 49)\n"
     ]
    },
    {
     "name": "stderr",
     "output_type": "stream",
     "text": [
      "C:\\Users\\Flavio\\anaconda3\\envs\\pyDev\\lib\\site-packages\\urllib3\\connectionpool.py:1045: InsecureRequestWarning: Unverified HTTPS request is being made to host 'api-corp.cna.org.br'. Adding certificate verification is strongly advised. See: https://urllib3.readthedocs.io/en/1.26.x/advanced-usage.html#ssl-warnings\n",
      "  warnings.warn(\n"
     ]
    },
    {
     "name": "stdout",
     "output_type": "stream",
     "text": [
      "92 (10000, 49) (910000, 49)\n"
     ]
    },
    {
     "name": "stderr",
     "output_type": "stream",
     "text": [
      "C:\\Users\\Flavio\\anaconda3\\envs\\pyDev\\lib\\site-packages\\urllib3\\connectionpool.py:1045: InsecureRequestWarning: Unverified HTTPS request is being made to host 'api-corp.cna.org.br'. Adding certificate verification is strongly advised. See: https://urllib3.readthedocs.io/en/1.26.x/advanced-usage.html#ssl-warnings\n",
      "  warnings.warn(\n"
     ]
    },
    {
     "name": "stdout",
     "output_type": "stream",
     "text": [
      "93 (10000, 49) (920000, 49)\n"
     ]
    },
    {
     "name": "stderr",
     "output_type": "stream",
     "text": [
      "C:\\Users\\Flavio\\anaconda3\\envs\\pyDev\\lib\\site-packages\\urllib3\\connectionpool.py:1045: InsecureRequestWarning: Unverified HTTPS request is being made to host 'api-corp.cna.org.br'. Adding certificate verification is strongly advised. See: https://urllib3.readthedocs.io/en/1.26.x/advanced-usage.html#ssl-warnings\n",
      "  warnings.warn(\n"
     ]
    },
    {
     "name": "stdout",
     "output_type": "stream",
     "text": [
      "94 (10000, 49) (930000, 49)\n"
     ]
    },
    {
     "name": "stderr",
     "output_type": "stream",
     "text": [
      "C:\\Users\\Flavio\\anaconda3\\envs\\pyDev\\lib\\site-packages\\urllib3\\connectionpool.py:1045: InsecureRequestWarning: Unverified HTTPS request is being made to host 'api-corp.cna.org.br'. Adding certificate verification is strongly advised. See: https://urllib3.readthedocs.io/en/1.26.x/advanced-usage.html#ssl-warnings\n",
      "  warnings.warn(\n"
     ]
    },
    {
     "name": "stdout",
     "output_type": "stream",
     "text": [
      "95 (10000, 49) (940000, 49)\n"
     ]
    },
    {
     "name": "stderr",
     "output_type": "stream",
     "text": [
      "C:\\Users\\Flavio\\anaconda3\\envs\\pyDev\\lib\\site-packages\\urllib3\\connectionpool.py:1045: InsecureRequestWarning: Unverified HTTPS request is being made to host 'api-corp.cna.org.br'. Adding certificate verification is strongly advised. See: https://urllib3.readthedocs.io/en/1.26.x/advanced-usage.html#ssl-warnings\n",
      "  warnings.warn(\n"
     ]
    },
    {
     "name": "stdout",
     "output_type": "stream",
     "text": [
      "96 (10000, 49) (950000, 49)\n"
     ]
    },
    {
     "name": "stderr",
     "output_type": "stream",
     "text": [
      "C:\\Users\\Flavio\\anaconda3\\envs\\pyDev\\lib\\site-packages\\urllib3\\connectionpool.py:1045: InsecureRequestWarning: Unverified HTTPS request is being made to host 'api-corp.cna.org.br'. Adding certificate verification is strongly advised. See: https://urllib3.readthedocs.io/en/1.26.x/advanced-usage.html#ssl-warnings\n",
      "  warnings.warn(\n"
     ]
    },
    {
     "name": "stdout",
     "output_type": "stream",
     "text": [
      "97 (10000, 49) (960000, 49)\n"
     ]
    },
    {
     "name": "stderr",
     "output_type": "stream",
     "text": [
      "C:\\Users\\Flavio\\anaconda3\\envs\\pyDev\\lib\\site-packages\\urllib3\\connectionpool.py:1045: InsecureRequestWarning: Unverified HTTPS request is being made to host 'api-corp.cna.org.br'. Adding certificate verification is strongly advised. See: https://urllib3.readthedocs.io/en/1.26.x/advanced-usage.html#ssl-warnings\n",
      "  warnings.warn(\n"
     ]
    },
    {
     "name": "stdout",
     "output_type": "stream",
     "text": [
      "98 (10000, 49) (970000, 49)\n"
     ]
    },
    {
     "name": "stderr",
     "output_type": "stream",
     "text": [
      "C:\\Users\\Flavio\\anaconda3\\envs\\pyDev\\lib\\site-packages\\urllib3\\connectionpool.py:1045: InsecureRequestWarning: Unverified HTTPS request is being made to host 'api-corp.cna.org.br'. Adding certificate verification is strongly advised. See: https://urllib3.readthedocs.io/en/1.26.x/advanced-usage.html#ssl-warnings\n",
      "  warnings.warn(\n"
     ]
    },
    {
     "name": "stdout",
     "output_type": "stream",
     "text": [
      "99 (10000, 49) (980000, 49)\n"
     ]
    },
    {
     "name": "stderr",
     "output_type": "stream",
     "text": [
      "C:\\Users\\Flavio\\anaconda3\\envs\\pyDev\\lib\\site-packages\\urllib3\\connectionpool.py:1045: InsecureRequestWarning: Unverified HTTPS request is being made to host 'api-corp.cna.org.br'. Adding certificate verification is strongly advised. See: https://urllib3.readthedocs.io/en/1.26.x/advanced-usage.html#ssl-warnings\n",
      "  warnings.warn(\n"
     ]
    },
    {
     "name": "stdout",
     "output_type": "stream",
     "text": [
      "100 (10000, 49) (990000, 49)\n"
     ]
    },
    {
     "name": "stderr",
     "output_type": "stream",
     "text": [
      "C:\\Users\\Flavio\\anaconda3\\envs\\pyDev\\lib\\site-packages\\urllib3\\connectionpool.py:1045: InsecureRequestWarning: Unverified HTTPS request is being made to host 'api-corp.cna.org.br'. Adding certificate verification is strongly advised. See: https://urllib3.readthedocs.io/en/1.26.x/advanced-usage.html#ssl-warnings\n",
      "  warnings.warn(\n"
     ]
    },
    {
     "name": "stdout",
     "output_type": "stream",
     "text": [
      "101 (10000, 49) (1000000, 49)\n"
     ]
    },
    {
     "name": "stderr",
     "output_type": "stream",
     "text": [
      "C:\\Users\\Flavio\\anaconda3\\envs\\pyDev\\lib\\site-packages\\urllib3\\connectionpool.py:1045: InsecureRequestWarning: Unverified HTTPS request is being made to host 'api-corp.cna.org.br'. Adding certificate verification is strongly advised. See: https://urllib3.readthedocs.io/en/1.26.x/advanced-usage.html#ssl-warnings\n",
      "  warnings.warn(\n"
     ]
    },
    {
     "name": "stdout",
     "output_type": "stream",
     "text": [
      "102 (10000, 49) (1010000, 49)\n"
     ]
    },
    {
     "name": "stderr",
     "output_type": "stream",
     "text": [
      "C:\\Users\\Flavio\\anaconda3\\envs\\pyDev\\lib\\site-packages\\urllib3\\connectionpool.py:1045: InsecureRequestWarning: Unverified HTTPS request is being made to host 'api-corp.cna.org.br'. Adding certificate verification is strongly advised. See: https://urllib3.readthedocs.io/en/1.26.x/advanced-usage.html#ssl-warnings\n",
      "  warnings.warn(\n"
     ]
    },
    {
     "name": "stdout",
     "output_type": "stream",
     "text": [
      "103 (10000, 49) (1020000, 49)\n"
     ]
    },
    {
     "name": "stderr",
     "output_type": "stream",
     "text": [
      "C:\\Users\\Flavio\\anaconda3\\envs\\pyDev\\lib\\site-packages\\urllib3\\connectionpool.py:1045: InsecureRequestWarning: Unverified HTTPS request is being made to host 'api-corp.cna.org.br'. Adding certificate verification is strongly advised. See: https://urllib3.readthedocs.io/en/1.26.x/advanced-usage.html#ssl-warnings\n",
      "  warnings.warn(\n"
     ]
    },
    {
     "name": "stdout",
     "output_type": "stream",
     "text": [
      "104 (10000, 49) (1030000, 49)\n"
     ]
    },
    {
     "name": "stderr",
     "output_type": "stream",
     "text": [
      "C:\\Users\\Flavio\\anaconda3\\envs\\pyDev\\lib\\site-packages\\urllib3\\connectionpool.py:1045: InsecureRequestWarning: Unverified HTTPS request is being made to host 'api-corp.cna.org.br'. Adding certificate verification is strongly advised. See: https://urllib3.readthedocs.io/en/1.26.x/advanced-usage.html#ssl-warnings\n",
      "  warnings.warn(\n"
     ]
    },
    {
     "name": "stdout",
     "output_type": "stream",
     "text": [
      "105 (10000, 49) (1040000, 49)\n"
     ]
    },
    {
     "name": "stderr",
     "output_type": "stream",
     "text": [
      "C:\\Users\\Flavio\\anaconda3\\envs\\pyDev\\lib\\site-packages\\urllib3\\connectionpool.py:1045: InsecureRequestWarning: Unverified HTTPS request is being made to host 'api-corp.cna.org.br'. Adding certificate verification is strongly advised. See: https://urllib3.readthedocs.io/en/1.26.x/advanced-usage.html#ssl-warnings\n",
      "  warnings.warn(\n"
     ]
    },
    {
     "name": "stdout",
     "output_type": "stream",
     "text": [
      "106 (10000, 49) (1050000, 49)\n"
     ]
    },
    {
     "name": "stderr",
     "output_type": "stream",
     "text": [
      "C:\\Users\\Flavio\\anaconda3\\envs\\pyDev\\lib\\site-packages\\urllib3\\connectionpool.py:1045: InsecureRequestWarning: Unverified HTTPS request is being made to host 'api-corp.cna.org.br'. Adding certificate verification is strongly advised. See: https://urllib3.readthedocs.io/en/1.26.x/advanced-usage.html#ssl-warnings\n",
      "  warnings.warn(\n"
     ]
    },
    {
     "name": "stdout",
     "output_type": "stream",
     "text": [
      "107 (10000, 49) (1060000, 49)\n"
     ]
    },
    {
     "name": "stderr",
     "output_type": "stream",
     "text": [
      "C:\\Users\\Flavio\\anaconda3\\envs\\pyDev\\lib\\site-packages\\urllib3\\connectionpool.py:1045: InsecureRequestWarning: Unverified HTTPS request is being made to host 'api-corp.cna.org.br'. Adding certificate verification is strongly advised. See: https://urllib3.readthedocs.io/en/1.26.x/advanced-usage.html#ssl-warnings\n",
      "  warnings.warn(\n"
     ]
    },
    {
     "name": "stdout",
     "output_type": "stream",
     "text": [
      "108 (7948, 49) (1070000, 49)\n"
     ]
    },
    {
     "name": "stderr",
     "output_type": "stream",
     "text": [
      "C:\\Users\\Flavio\\anaconda3\\envs\\pyDev\\lib\\site-packages\\urllib3\\connectionpool.py:1045: InsecureRequestWarning: Unverified HTTPS request is being made to host 'api-corp.cna.org.br'. Adding certificate verification is strongly advised. See: https://urllib3.readthedocs.io/en/1.26.x/advanced-usage.html#ssl-warnings\n",
      "  warnings.warn(\n"
     ]
    },
    {
     "data": {
      "text/plain": [
       "(1077948, 49)"
      ]
     },
     "execution_count": 40,
     "metadata": {},
     "output_type": "execute_result"
    }
   ],
   "source": [
    "df_mensal = get_index_df('sisateg_rel_indicador_leite_mensal', scroll_size, scroll_time)\n",
    "df_mensal.shape"
   ]
  },
  {
   "cell_type": "code",
   "execution_count": 41,
   "id": "95961a56",
   "metadata": {},
   "outputs": [],
   "source": [
    "df_mensal.columns = [ c.replace('_','').replace('source.','') for c in df_mensal.columns ]\n",
    "df_mensal = df_mensal.reset_index( drop=True )"
   ]
  },
  {
   "cell_type": "code",
   "execution_count": 43,
   "id": "9bb9e517",
   "metadata": {},
   "outputs": [
    {
     "data": {
      "text/html": [
       "<div>\n",
       "<style scoped>\n",
       "    .dataframe tbody tr th:only-of-type {\n",
       "        vertical-align: middle;\n",
       "    }\n",
       "\n",
       "    .dataframe tbody tr th {\n",
       "        vertical-align: top;\n",
       "    }\n",
       "\n",
       "    .dataframe thead th {\n",
       "        text-align: right;\n",
       "    }\n",
       "</style>\n",
       "<table border=\"1\" class=\"dataframe\">\n",
       "  <thead>\n",
       "    <tr style=\"text-align: right;\">\n",
       "      <th></th>\n",
       "      <th>index</th>\n",
       "      <th>type</th>\n",
       "      <th>id</th>\n",
       "      <th>score</th>\n",
       "      <th>jurossobrecapital</th>\n",
       "      <th>idpropriedade</th>\n",
       "      <th>dtalteracaovisita</th>\n",
       "      <th>precomedioleite</th>\n",
       "      <th>ufregional</th>\n",
       "      <th>dtexclusaovisita</th>\n",
       "      <th>concentradopelarendabrutaatividade</th>\n",
       "      <th>idregional</th>\n",
       "      <th>regiao</th>\n",
       "      <th>depreciacaoanimal</th>\n",
       "      <th>despesaaleitamento</th>\n",
       "      <th>propriedade</th>\n",
       "      <th>despesaqualidadeleite</th>\n",
       "      <th>customaoobrafamiliar</th>\n",
       "      <th>capitalemterra</th>\n",
       "      <th>dtalteracaopropriedade</th>\n",
       "      <th>producaoporvacalactacao</th>\n",
       "      <th>producaoleitedia</th>\n",
       "      <th>idvisita</th>\n",
       "      <th>qtdrebanho</th>\n",
       "      <th>depreciacaoanimalgenetico</th>\n",
       "      <th>gastomaodeobracontratadaatividade</th>\n",
       "      <th>idprojeto</th>\n",
       "      <th>producaoleite</th>\n",
       "      <th>capitalemanimal</th>\n",
       "      <th>@version</th>\n",
       "      <th>municipio</th>\n",
       "      <th>qtdvacatotal</th>\n",
       "      <th>rendabrutaatividade</th>\n",
       "      <th>dtreferencia</th>\n",
       "      <th>projeto</th>\n",
       "      <th>idprodutor</th>\n",
       "      <th>dtexclusaopropriedade</th>\n",
       "      <th>produtor</th>\n",
       "      <th>gastomaodeobrapelarendabrutaatividade</th>\n",
       "      <th>depreciacaoatividade</th>\n",
       "      <th>dtvisita</th>\n",
       "      <th>qtdvacalactacao</th>\n",
       "      <th>qtdmaoobrapermanente</th>\n",
       "      <th>rendabrutaleite</th>\n",
       "      <th>gastoconcentradoatividade</th>\n",
       "      <th>depreciacaoanimalservico</th>\n",
       "      <th>@timestamp</th>\n",
       "      <th>perfilfundiario</th>\n",
       "      <th>areaprodutiva</th>\n",
       "    </tr>\n",
       "  </thead>\n",
       "  <tbody>\n",
       "    <tr>\n",
       "      <th>1077945</th>\n",
       "      <td>sisateg_rel_indicador_leite_mensal</td>\n",
       "      <td>_doc</td>\n",
       "      <td>297709</td>\n",
       "      <td>1.0</td>\n",
       "      <td>NaN</td>\n",
       "      <td>15396</td>\n",
       "      <td>2019-04-02T19:27:01.583Z</td>\n",
       "      <td>1.25</td>\n",
       "      <td>RS</td>\n",
       "      <td>None</td>\n",
       "      <td>0.13</td>\n",
       "      <td>9</td>\n",
       "      <td>SUL</td>\n",
       "      <td>0.0</td>\n",
       "      <td>0.0</td>\n",
       "      <td>FAZENDA HERPICH SPR</td>\n",
       "      <td>0.00</td>\n",
       "      <td>1996.0</td>\n",
       "      <td>478800.0</td>\n",
       "      <td>2021-10-27T12:04:00.737Z</td>\n",
       "      <td>8.34</td>\n",
       "      <td>83.44</td>\n",
       "      <td>297709</td>\n",
       "      <td>14.0</td>\n",
       "      <td>0.0</td>\n",
       "      <td>0.0</td>\n",
       "      <td>12</td>\n",
       "      <td>2538.0</td>\n",
       "      <td>39200.0</td>\n",
       "      <td>1</td>\n",
       "      <td>HORIZONTINA</td>\n",
       "      <td>14.0</td>\n",
       "      <td>3172.50</td>\n",
       "      <td>2019-02-01</td>\n",
       "      <td>MAPA LEITE</td>\n",
       "      <td>19186</td>\n",
       "      <td>None</td>\n",
       "      <td>ELAIDI C KOGLIN HERPICH</td>\n",
       "      <td>0.00</td>\n",
       "      <td>NaN</td>\n",
       "      <td>2019-03-11</td>\n",
       "      <td>10.0</td>\n",
       "      <td>2.0</td>\n",
       "      <td>3172.50</td>\n",
       "      <td>400.00</td>\n",
       "      <td>0.0</td>\n",
       "      <td>2023-11-16T20:05:00.241Z</td>\n",
       "      <td>PEQUENA PROPRIEDADE</td>\n",
       "      <td>15.96</td>\n",
       "    </tr>\n",
       "    <tr>\n",
       "      <th>1077946</th>\n",
       "      <td>sisateg_rel_indicador_leite_mensal</td>\n",
       "      <td>_doc</td>\n",
       "      <td>292479</td>\n",
       "      <td>1.0</td>\n",
       "      <td>NaN</td>\n",
       "      <td>14621</td>\n",
       "      <td>2019-03-12T21:57:51.537Z</td>\n",
       "      <td>1.10</td>\n",
       "      <td>RS</td>\n",
       "      <td>None</td>\n",
       "      <td>0.22</td>\n",
       "      <td>9</td>\n",
       "      <td>SUL</td>\n",
       "      <td>0.0</td>\n",
       "      <td>161.0</td>\n",
       "      <td>FAZENDA SILVEIRA FRANCO AS</td>\n",
       "      <td>94.65</td>\n",
       "      <td>954.0</td>\n",
       "      <td>508500.0</td>\n",
       "      <td>2021-10-27T12:04:00.737Z</td>\n",
       "      <td>16.47</td>\n",
       "      <td>148.27</td>\n",
       "      <td>292479</td>\n",
       "      <td>28.0</td>\n",
       "      <td>0.0</td>\n",
       "      <td>311.0</td>\n",
       "      <td>12</td>\n",
       "      <td>4510.0</td>\n",
       "      <td>0.0</td>\n",
       "      <td>1</td>\n",
       "      <td>PALMEIRA DAS MISSOES</td>\n",
       "      <td>16.0</td>\n",
       "      <td>9011.00</td>\n",
       "      <td>2019-02-01</td>\n",
       "      <td>MAPA LEITE</td>\n",
       "      <td>19086</td>\n",
       "      <td>None</td>\n",
       "      <td>WILMAR SILVEIRA FRANCO</td>\n",
       "      <td>0.03</td>\n",
       "      <td>NaN</td>\n",
       "      <td>2019-03-12</td>\n",
       "      <td>9.0</td>\n",
       "      <td>1.0</td>\n",
       "      <td>4961.00</td>\n",
       "      <td>1999.00</td>\n",
       "      <td>0.0</td>\n",
       "      <td>2023-11-16T20:05:00.225Z</td>\n",
       "      <td>PEQUENA PROPRIEDADE</td>\n",
       "      <td>7.80</td>\n",
       "    </tr>\n",
       "    <tr>\n",
       "      <th>1077947</th>\n",
       "      <td>sisateg_rel_indicador_leite_mensal</td>\n",
       "      <td>_doc</td>\n",
       "      <td>308073</td>\n",
       "      <td>1.0</td>\n",
       "      <td>NaN</td>\n",
       "      <td>14621</td>\n",
       "      <td>2019-04-01T23:54:20.413Z</td>\n",
       "      <td>1.22</td>\n",
       "      <td>RS</td>\n",
       "      <td>None</td>\n",
       "      <td>0.15</td>\n",
       "      <td>9</td>\n",
       "      <td>SUL</td>\n",
       "      <td>0.0</td>\n",
       "      <td>0.0</td>\n",
       "      <td>FAZENDA SILVEIRA FRANCO AS</td>\n",
       "      <td>0.00</td>\n",
       "      <td>954.0</td>\n",
       "      <td>508500.0</td>\n",
       "      <td>2021-10-27T12:04:00.737Z</td>\n",
       "      <td>13.59</td>\n",
       "      <td>135.91</td>\n",
       "      <td>308073</td>\n",
       "      <td>27.0</td>\n",
       "      <td>0.0</td>\n",
       "      <td>462.2</td>\n",
       "      <td>12</td>\n",
       "      <td>4134.0</td>\n",
       "      <td>0.0</td>\n",
       "      <td>1</td>\n",
       "      <td>PALMEIRA DAS MISSOES</td>\n",
       "      <td>15.0</td>\n",
       "      <td>5043.48</td>\n",
       "      <td>2019-03-01</td>\n",
       "      <td>MAPA LEITE</td>\n",
       "      <td>19086</td>\n",
       "      <td>None</td>\n",
       "      <td>WILMAR SILVEIRA FRANCO</td>\n",
       "      <td>0.09</td>\n",
       "      <td>NaN</td>\n",
       "      <td>2019-04-05</td>\n",
       "      <td>10.0</td>\n",
       "      <td>1.0</td>\n",
       "      <td>5043.48</td>\n",
       "      <td>778.57</td>\n",
       "      <td>0.0</td>\n",
       "      <td>2023-11-16T20:05:00.225Z</td>\n",
       "      <td>PEQUENA PROPRIEDADE</td>\n",
       "      <td>7.80</td>\n",
       "    </tr>\n",
       "  </tbody>\n",
       "</table>\n",
       "</div>"
      ],
      "text/plain": [
       "                                      index  type      id  score  \\\n",
       "1077945  sisateg_rel_indicador_leite_mensal  _doc  297709    1.0   \n",
       "1077946  sisateg_rel_indicador_leite_mensal  _doc  292479    1.0   \n",
       "1077947  sisateg_rel_indicador_leite_mensal  _doc  308073    1.0   \n",
       "\n",
       "         jurossobrecapital  idpropriedade         dtalteracaovisita  \\\n",
       "1077945                NaN          15396  2019-04-02T19:27:01.583Z   \n",
       "1077946                NaN          14621  2019-03-12T21:57:51.537Z   \n",
       "1077947                NaN          14621  2019-04-01T23:54:20.413Z   \n",
       "\n",
       "         precomedioleite ufregional dtexclusaovisita  \\\n",
       "1077945             1.25         RS             None   \n",
       "1077946             1.10         RS             None   \n",
       "1077947             1.22         RS             None   \n",
       "\n",
       "         concentradopelarendabrutaatividade  idregional regiao  \\\n",
       "1077945                                0.13           9    SUL   \n",
       "1077946                                0.22           9    SUL   \n",
       "1077947                                0.15           9    SUL   \n",
       "\n",
       "         depreciacaoanimal  despesaaleitamento                 propriedade  \\\n",
       "1077945                0.0                 0.0         FAZENDA HERPICH SPR   \n",
       "1077946                0.0               161.0  FAZENDA SILVEIRA FRANCO AS   \n",
       "1077947                0.0                 0.0  FAZENDA SILVEIRA FRANCO AS   \n",
       "\n",
       "         despesaqualidadeleite  customaoobrafamiliar  capitalemterra  \\\n",
       "1077945                   0.00                1996.0        478800.0   \n",
       "1077946                  94.65                 954.0        508500.0   \n",
       "1077947                   0.00                 954.0        508500.0   \n",
       "\n",
       "           dtalteracaopropriedade  producaoporvacalactacao  producaoleitedia  \\\n",
       "1077945  2021-10-27T12:04:00.737Z                     8.34             83.44   \n",
       "1077946  2021-10-27T12:04:00.737Z                    16.47            148.27   \n",
       "1077947  2021-10-27T12:04:00.737Z                    13.59            135.91   \n",
       "\n",
       "         idvisita  qtdrebanho  depreciacaoanimalgenetico  \\\n",
       "1077945    297709        14.0                        0.0   \n",
       "1077946    292479        28.0                        0.0   \n",
       "1077947    308073        27.0                        0.0   \n",
       "\n",
       "         gastomaodeobracontratadaatividade  idprojeto  producaoleite  \\\n",
       "1077945                                0.0         12         2538.0   \n",
       "1077946                              311.0         12         4510.0   \n",
       "1077947                              462.2         12         4134.0   \n",
       "\n",
       "         capitalemanimal @version             municipio  qtdvacatotal  \\\n",
       "1077945          39200.0        1           HORIZONTINA          14.0   \n",
       "1077946              0.0        1  PALMEIRA DAS MISSOES          16.0   \n",
       "1077947              0.0        1  PALMEIRA DAS MISSOES          15.0   \n",
       "\n",
       "         rendabrutaatividade dtreferencia     projeto  idprodutor  \\\n",
       "1077945              3172.50   2019-02-01  MAPA LEITE       19186   \n",
       "1077946              9011.00   2019-02-01  MAPA LEITE       19086   \n",
       "1077947              5043.48   2019-03-01  MAPA LEITE       19086   \n",
       "\n",
       "        dtexclusaopropriedade                 produtor  \\\n",
       "1077945                  None  ELAIDI C KOGLIN HERPICH   \n",
       "1077946                  None   WILMAR SILVEIRA FRANCO   \n",
       "1077947                  None   WILMAR SILVEIRA FRANCO   \n",
       "\n",
       "         gastomaodeobrapelarendabrutaatividade  depreciacaoatividade  \\\n",
       "1077945                                   0.00                   NaN   \n",
       "1077946                                   0.03                   NaN   \n",
       "1077947                                   0.09                   NaN   \n",
       "\n",
       "           dtvisita  qtdvacalactacao  qtdmaoobrapermanente  rendabrutaleite  \\\n",
       "1077945  2019-03-11             10.0                   2.0          3172.50   \n",
       "1077946  2019-03-12              9.0                   1.0          4961.00   \n",
       "1077947  2019-04-05             10.0                   1.0          5043.48   \n",
       "\n",
       "         gastoconcentradoatividade  depreciacaoanimalservico  \\\n",
       "1077945                     400.00                       0.0   \n",
       "1077946                    1999.00                       0.0   \n",
       "1077947                     778.57                       0.0   \n",
       "\n",
       "                       @timestamp      perfilfundiario  areaprodutiva  \n",
       "1077945  2023-11-16T20:05:00.241Z  PEQUENA PROPRIEDADE          15.96  \n",
       "1077946  2023-11-16T20:05:00.225Z  PEQUENA PROPRIEDADE           7.80  \n",
       "1077947  2023-11-16T20:05:00.225Z  PEQUENA PROPRIEDADE           7.80  "
      ]
     },
     "execution_count": 43,
     "metadata": {},
     "output_type": "execute_result"
    }
   ],
   "source": [
    "df_mensal.tail(3)"
   ]
  },
  {
   "cell_type": "code",
   "execution_count": 42,
   "id": "fdddf418",
   "metadata": {},
   "outputs": [],
   "source": [
    "df_mensal.to_parquet('files/sisateg_rel_indicador_leite_mensal.parquet')"
   ]
  },
  {
   "cell_type": "code",
   "execution_count": null,
   "id": "386884ee",
   "metadata": {},
   "outputs": [],
   "source": []
  },
  {
   "cell_type": "code",
   "execution_count": null,
   "id": "a2932083",
   "metadata": {},
   "outputs": [],
   "source": []
  }
 ],
 "metadata": {
  "kernelspec": {
   "display_name": "Python 3 (ipykernel)",
   "language": "python",
   "name": "python3"
  },
  "language_info": {
   "codemirror_mode": {
    "name": "ipython",
    "version": 3
   },
   "file_extension": ".py",
   "mimetype": "text/x-python",
   "name": "python",
   "nbconvert_exporter": "python",
   "pygments_lexer": "ipython3",
   "version": "3.8.15"
  }
 },
 "nbformat": 4,
 "nbformat_minor": 5
}
